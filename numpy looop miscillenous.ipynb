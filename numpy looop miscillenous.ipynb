{
 "cells": [
  {
   "cell_type": "code",
   "execution_count": 67,
   "id": "182a720a-06dc-4e96-802c-d783d6c33aea",
   "metadata": {},
   "outputs": [],
   "source": [
    "import pandas as pd\n",
    "import numpy as np\n",
    "import matplotlib.pyplot as plt\n",
    "from datetime import date"
   ]
  },
  {
   "cell_type": "code",
   "execution_count": 4,
   "id": "752dc0eb-a8b9-43c2-9691-a959dee7b31a",
   "metadata": {
    "scrolled": true
   },
   "outputs": [],
   "source": [
    "# rng = np.random_default(setsedd = 123)"
   ]
  },
  {
   "cell_type": "code",
   "execution_count": 5,
   "id": "e4332845-2103-417f-850e-0acb7e316e5e",
   "metadata": {},
   "outputs": [
    {
     "data": {
      "text/plain": [
       "array([[6, 6, 6, 6, 6],\n",
       "       [6, 6, 6, 6, 6],\n",
       "       [6, 6, 6, 6, 6]])"
      ]
     },
     "execution_count": 5,
     "metadata": {},
     "output_type": "execute_result"
    }
   ],
   "source": [
    "np.full((3,5),6)"
   ]
  },
  {
   "cell_type": "code",
   "execution_count": null,
   "id": "0d071561-0216-4731-bacc-17d76add374f",
   "metadata": {},
   "outputs": [],
   "source": []
  },
  {
   "cell_type": "code",
   "execution_count": 11,
   "id": "cb717c9e-8c89-4ff7-9ea1-7d94f7d4287d",
   "metadata": {},
   "outputs": [
    {
     "data": {
      "text/plain": [
       "array([  0,  10,  20,  30,  40,  50,  60,  70,  80,  90, 100, 110, 120,\n",
       "       130, 140, 150, 160, 170, 180, 190, 200, 210, 220, 230, 240, 250,\n",
       "       260, 270, 280, 290, 300, 310, 320, 330, 340, 350, 360, 370, 380,\n",
       "       390, 400, 410, 420, 430, 440, 450, 460, 470, 480, 490, 500, 510,\n",
       "       520, 530, 540, 550, 560, 570, 580, 590, 600, 610, 620, 630, 640,\n",
       "       650, 660, 670, 680, 690, 700, 710, 720, 730, 740, 750, 760, 770,\n",
       "       780, 790, 800, 810, 820, 830, 840, 850, 860, 870, 880, 890, 900,\n",
       "       910, 920, 930, 940, 950, 960, 970, 980, 990])"
      ]
     },
     "execution_count": 11,
     "metadata": {},
     "output_type": "execute_result"
    }
   ],
   "source": [
    "np.arange(0,1000,10)"
   ]
  },
  {
   "cell_type": "code",
   "execution_count": null,
   "id": "4f5ed575-dda0-423d-a69b-775df3dc6ba9",
   "metadata": {},
   "outputs": [],
   "source": []
  },
  {
   "cell_type": "code",
   "execution_count": 15,
   "id": "b1e61d98-cb60-4ec4-89a7-60064465ba50",
   "metadata": {},
   "outputs": [
    {
     "name": "stdout",
     "output_type": "stream",
     "text": [
      "[1, 4, 9, 16, 25, 36, 49, 64, 81, 100]\n"
     ]
    }
   ],
   "source": [
    "squares = []\n",
    "for i in range(1,11):\n",
    "    squares.append(i**2)\n",
    "print(squares)"
   ]
  },
  {
   "cell_type": "code",
   "execution_count": 17,
   "id": "2a2d7a4d-c855-4824-a5b5-40055d25eafc",
   "metadata": {},
   "outputs": [
    {
     "name": "stdout",
     "output_type": "stream",
     "text": [
      "[1, 4, 9, 16, 25, 36, 49, 64, 81, 100]\n"
     ]
    }
   ],
   "source": [
    "squares = [i**2 for i in range(1,11)]\n",
    "print(squares)"
   ]
  },
  {
   "cell_type": "code",
   "execution_count": 19,
   "id": "f6e9bb2e-78fa-4a4b-8c10-274ee6508e29",
   "metadata": {},
   "outputs": [
    {
     "name": "stdout",
     "output_type": "stream",
     "text": [
      "[ 0 10 20 30 40 50 60 70 80 90]\n"
     ]
    }
   ],
   "source": [
    "print(np.arange(0,100,10))"
   ]
  },
  {
   "cell_type": "code",
   "execution_count": 27,
   "id": "6120099b-69a2-4f5e-aeec-60a7ed80ed71",
   "metadata": {},
   "outputs": [
    {
     "data": {
      "text/plain": [
       "1000"
      ]
     },
     "execution_count": 27,
     "metadata": {},
     "output_type": "execute_result"
    }
   ],
   "source": [
    "y= np.linspace(0,100,1000)\n",
    "\n",
    "len(y)"
   ]
  },
  {
   "cell_type": "code",
   "execution_count": 28,
   "id": "404ec02f-5310-4a65-96dd-7eff96b1fa9a",
   "metadata": {},
   "outputs": [
    {
     "data": {
      "text/plain": [
       "(1000,)"
      ]
     },
     "execution_count": 28,
     "metadata": {},
     "output_type": "execute_result"
    }
   ],
   "source": [
    "y.shape"
   ]
  },
  {
   "cell_type": "code",
   "execution_count": 33,
   "id": "e2e6ea88-a7a0-4eb2-b484-8516dbb235a0",
   "metadata": {},
   "outputs": [
    {
     "data": {
      "text/plain": [
       "array([829,   2, 125, 283, 985, 377, 792,  21, 911, 311, 375, 480, 619,\n",
       "       432, 942, 742, 262, 363, 726, 467, 813,  36, 145, 864, 978, 311,\n",
       "       495,   7, 434, 374, 734, 148, 802, 289,  98, 634, 659,   2, 750,\n",
       "       422,  71, 818,  89, 128, 945, 973, 512, 729, 717, 807, 892, 714,\n",
       "       374, 727, 503, 337, 786, 861, 362,  53, 373, 493, 147, 968,  28,\n",
       "       370, 735,  45, 691, 467, 763, 202, 155, 993, 518, 954, 636,  37,\n",
       "       137, 904, 450, 296, 345, 905, 367, 858, 873, 348, 569, 414, 623,\n",
       "       564, 627, 172, 448, 878,  57,  55, 491, 156, 181, 476, 971, 631,\n",
       "       727, 819, 121, 958,  69, 236, 769, 757, 964, 373, 416, 973, 157,\n",
       "       198,  79, 449, 790,  18, 741, 599, 943, 984, 361, 998, 709, 422,\n",
       "       920, 794, 766, 455, 897, 223, 532, 970, 713, 485, 776, 393,  29,\n",
       "       531, 384, 225, 889, 521, 596, 449, 163, 540,  15, 824,  39, 471,\n",
       "       841, 675, 400, 580, 726, 861, 275,  29, 292,  27, 793, 306,  61,\n",
       "       732, 156, 203, 864, 457, 271, 731, 115, 900,  34,  31, 141, 840,\n",
       "       923, 237, 181, 470, 671, 401, 362, 338, 289, 529, 326, 236, 406,\n",
       "       590, 773, 848, 660, 107])"
      ]
     },
     "execution_count": 33,
     "metadata": {},
     "output_type": "execute_result"
    }
   ],
   "source": [
    "np.random.randint(0,1001,size = 200)"
   ]
  },
  {
   "cell_type": "code",
   "execution_count": 35,
   "id": "ecba816c-a961-426b-90fa-3dfbb8d48da4",
   "metadata": {},
   "outputs": [
    {
     "data": {
      "text/plain": [
       "array([47, 51, 52, 46, 53, 42, 45, 48, 43, 52, 54, 54, 45, 43, 50, 39, 53,\n",
       "       47, 45, 44, 45, 52, 46, 42, 48, 47, 40, 55, 50, 51, 38, 43, 44, 51,\n",
       "       43, 50, 47, 51, 51, 54, 45, 54, 59, 59, 50, 48, 52, 51, 49, 51])"
      ]
     },
     "execution_count": 35,
     "metadata": {},
     "output_type": "execute_result"
    }
   ],
   "source": [
    "np.random.binomial(100,p = 0.5,size = 50)"
   ]
  },
  {
   "cell_type": "code",
   "execution_count": 38,
   "id": "7bb54d7c-0c3d-4620-abe4-329fb9a59887",
   "metadata": {},
   "outputs": [],
   "source": [
    "x= np.random.normal(loc = 10,scale = 2, size = 50)\n",
    "y = np.sin(x)\n"
   ]
  },
  {
   "cell_type": "code",
   "execution_count": 44,
   "id": "bb9179de-a7ea-43a6-a44f-18854ba33683",
   "metadata": {},
   "outputs": [
    {
     "data": {
      "text/plain": [
       "array([-0.18966794, -0.640457  ,  0.08670587, -0.57357266, -0.71887373,\n",
       "        0.43595416, -0.51075132, -0.7290025 ,  0.16471384, -0.96543728,\n",
       "       -0.81186264, -0.27592291, -0.93911455, -0.20991681, -0.99960689,\n",
       "        0.05401866, -0.12162535,  0.66308828,  0.531587  ,  0.96342808,\n",
       "       -0.54200216,  0.88686446,  0.69179826,  0.27366575, -0.65839631,\n",
       "        0.03276114, -0.85465297, -0.12922517, -0.26793208, -0.9313658 ,\n",
       "        0.05206949, -0.93846101, -0.16849274, -0.20759756, -0.17683907,\n",
       "       -0.53329536, -0.03049568,  0.04227751, -0.96716099, -0.91477682,\n",
       "       -0.87080067,  0.37220302, -0.99919559, -0.19653674, -0.83159654,\n",
       "        0.67045123,  0.70826989, -0.9136088 , -0.73514287, -0.42584214])"
      ]
     },
     "execution_count": 44,
     "metadata": {},
     "output_type": "execute_result"
    }
   ],
   "source": []
  },
  {
   "cell_type": "code",
   "execution_count": 47,
   "id": "56f85a1b-3042-4e34-b2a3-3887bf5b4507",
   "metadata": {},
   "outputs": [
    {
     "data": {
      "text/html": [
       "<div>\n",
       "<style scoped>\n",
       "    .dataframe tbody tr th:only-of-type {\n",
       "        vertical-align: middle;\n",
       "    }\n",
       "\n",
       "    .dataframe tbody tr th {\n",
       "        vertical-align: top;\n",
       "    }\n",
       "\n",
       "    .dataframe thead th {\n",
       "        text-align: right;\n",
       "    }\n",
       "</style>\n",
       "<table border=\"1\" class=\"dataframe\">\n",
       "  <thead>\n",
       "    <tr style=\"text-align: right;\">\n",
       "      <th></th>\n",
       "      <th>x</th>\n",
       "      <th>y</th>\n",
       "    </tr>\n",
       "  </thead>\n",
       "  <tbody>\n",
       "    <tr>\n",
       "      <th>0</th>\n",
       "      <td>12.375547</td>\n",
       "      <td>-0.189668</td>\n",
       "    </tr>\n",
       "    <tr>\n",
       "      <th>1</th>\n",
       "      <td>11.871277</td>\n",
       "      <td>-0.640457</td>\n",
       "    </tr>\n",
       "    <tr>\n",
       "      <th>2</th>\n",
       "      <td>9.337963</td>\n",
       "      <td>0.086706</td>\n",
       "    </tr>\n",
       "    <tr>\n",
       "      <th>3</th>\n",
       "      <td>11.955510</td>\n",
       "      <td>-0.573573</td>\n",
       "    </tr>\n",
       "    <tr>\n",
       "      <th>4</th>\n",
       "      <td>11.764190</td>\n",
       "      <td>-0.718874</td>\n",
       "    </tr>\n",
       "    <tr>\n",
       "      <th>5</th>\n",
       "      <td>8.973680</td>\n",
       "      <td>0.435954</td>\n",
       "    </tr>\n",
       "    <tr>\n",
       "      <th>6</th>\n",
       "      <td>9.960836</td>\n",
       "      <td>-0.510751</td>\n",
       "    </tr>\n",
       "    <tr>\n",
       "      <th>7</th>\n",
       "      <td>10.241642</td>\n",
       "      <td>-0.729002</td>\n",
       "    </tr>\n",
       "    <tr>\n",
       "      <th>8</th>\n",
       "      <td>12.731838</td>\n",
       "      <td>0.164714</td>\n",
       "    </tr>\n",
       "    <tr>\n",
       "      <th>9</th>\n",
       "      <td>10.731894</td>\n",
       "      <td>-0.965437</td>\n",
       "    </tr>\n",
       "    <tr>\n",
       "      <th>10</th>\n",
       "      <td>10.372113</td>\n",
       "      <td>-0.811863</td>\n",
       "    </tr>\n",
       "    <tr>\n",
       "      <th>11</th>\n",
       "      <td>9.704328</td>\n",
       "      <td>-0.275923</td>\n",
       "    </tr>\n",
       "    <tr>\n",
       "      <th>12</th>\n",
       "      <td>11.346326</td>\n",
       "      <td>-0.939115</td>\n",
       "    </tr>\n",
       "    <tr>\n",
       "      <th>13</th>\n",
       "      <td>12.354881</td>\n",
       "      <td>-0.209917</td>\n",
       "    </tr>\n",
       "    <tr>\n",
       "      <th>14</th>\n",
       "      <td>10.967534</td>\n",
       "      <td>-0.999607</td>\n",
       "    </tr>\n",
       "    <tr>\n",
       "      <th>15</th>\n",
       "      <td>9.370733</td>\n",
       "      <td>0.054019</td>\n",
       "    </tr>\n",
       "    <tr>\n",
       "      <th>16</th>\n",
       "      <td>9.546705</td>\n",
       "      <td>-0.121625</td>\n",
       "    </tr>\n",
       "    <tr>\n",
       "      <th>17</th>\n",
       "      <td>7.008122</td>\n",
       "      <td>0.663088</td>\n",
       "    </tr>\n",
       "    <tr>\n",
       "      <th>18</th>\n",
       "      <td>6.843658</td>\n",
       "      <td>0.531587</td>\n",
       "    </tr>\n",
       "    <tr>\n",
       "      <th>19</th>\n",
       "      <td>8.125264</td>\n",
       "      <td>0.963428</td>\n",
       "    </tr>\n",
       "    <tr>\n",
       "      <th>20</th>\n",
       "      <td>9.997596</td>\n",
       "      <td>-0.542002</td>\n",
       "    </tr>\n",
       "    <tr>\n",
       "      <th>21</th>\n",
       "      <td>7.373699</td>\n",
       "      <td>0.886864</td>\n",
       "    </tr>\n",
       "    <tr>\n",
       "      <th>22</th>\n",
       "      <td>8.660802</td>\n",
       "      <td>0.691798</td>\n",
       "    </tr>\n",
       "    <tr>\n",
       "      <th>23</th>\n",
       "      <td>12.843573</td>\n",
       "      <td>0.273666</td>\n",
       "    </tr>\n",
       "    <tr>\n",
       "      <th>24</th>\n",
       "      <td>10.143464</td>\n",
       "      <td>-0.658396</td>\n",
       "    </tr>\n",
       "    <tr>\n",
       "      <th>25</th>\n",
       "      <td>9.392011</td>\n",
       "      <td>0.032761</td>\n",
       "    </tr>\n",
       "    <tr>\n",
       "      <th>26</th>\n",
       "      <td>11.541489</td>\n",
       "      <td>-0.854653</td>\n",
       "    </tr>\n",
       "    <tr>\n",
       "      <th>27</th>\n",
       "      <td>9.554366</td>\n",
       "      <td>-0.129225</td>\n",
       "    </tr>\n",
       "    <tr>\n",
       "      <th>28</th>\n",
       "      <td>12.295125</td>\n",
       "      <td>-0.267932</td>\n",
       "    </tr>\n",
       "    <tr>\n",
       "      <th>29</th>\n",
       "      <td>10.622924</td>\n",
       "      <td>-0.931366</td>\n",
       "    </tr>\n",
       "    <tr>\n",
       "      <th>30</th>\n",
       "      <td>12.618464</td>\n",
       "      <td>0.052069</td>\n",
       "    </tr>\n",
       "    <tr>\n",
       "      <th>31</th>\n",
       "      <td>11.348224</td>\n",
       "      <td>-0.938461</td>\n",
       "    </tr>\n",
       "    <tr>\n",
       "      <th>32</th>\n",
       "      <td>9.594078</td>\n",
       "      <td>-0.168493</td>\n",
       "    </tr>\n",
       "    <tr>\n",
       "      <th>33</th>\n",
       "      <td>9.633896</td>\n",
       "      <td>-0.207598</td>\n",
       "    </tr>\n",
       "    <tr>\n",
       "      <th>34</th>\n",
       "      <td>9.602552</td>\n",
       "      <td>-0.176839</td>\n",
       "    </tr>\n",
       "    <tr>\n",
       "      <th>35</th>\n",
       "      <td>9.987269</td>\n",
       "      <td>-0.533295</td>\n",
       "    </tr>\n",
       "    <tr>\n",
       "      <th>36</th>\n",
       "      <td>12.535870</td>\n",
       "      <td>-0.030496</td>\n",
       "    </tr>\n",
       "    <tr>\n",
       "      <th>37</th>\n",
       "      <td>12.608661</td>\n",
       "      <td>0.042278</td>\n",
       "    </tr>\n",
       "    <tr>\n",
       "      <th>38</th>\n",
       "      <td>11.252558</td>\n",
       "      <td>-0.967161</td>\n",
       "    </tr>\n",
       "    <tr>\n",
       "      <th>39</th>\n",
       "      <td>11.411416</td>\n",
       "      <td>-0.914777</td>\n",
       "    </tr>\n",
       "    <tr>\n",
       "      <th>40</th>\n",
       "      <td>11.509542</td>\n",
       "      <td>-0.870801</td>\n",
       "    </tr>\n",
       "    <tr>\n",
       "      <th>41</th>\n",
       "      <td>9.043397</td>\n",
       "      <td>0.372203</td>\n",
       "    </tr>\n",
       "    <tr>\n",
       "      <th>42</th>\n",
       "      <td>11.035687</td>\n",
       "      <td>-0.999196</td>\n",
       "    </tr>\n",
       "    <tr>\n",
       "      <th>43</th>\n",
       "      <td>9.622602</td>\n",
       "      <td>-0.196537</td>\n",
       "    </tr>\n",
       "    <tr>\n",
       "      <th>44</th>\n",
       "      <td>10.406754</td>\n",
       "      <td>-0.831597</td>\n",
       "    </tr>\n",
       "    <tr>\n",
       "      <th>45</th>\n",
       "      <td>7.018002</td>\n",
       "      <td>0.670451</td>\n",
       "    </tr>\n",
       "    <tr>\n",
       "      <th>46</th>\n",
       "      <td>8.637734</td>\n",
       "      <td>0.708270</td>\n",
       "    </tr>\n",
       "    <tr>\n",
       "      <th>47</th>\n",
       "      <td>10.576851</td>\n",
       "      <td>-0.913609</td>\n",
       "    </tr>\n",
       "    <tr>\n",
       "      <th>48</th>\n",
       "      <td>10.250655</td>\n",
       "      <td>-0.735143</td>\n",
       "    </tr>\n",
       "    <tr>\n",
       "      <th>49</th>\n",
       "      <td>9.864670</td>\n",
       "      <td>-0.425842</td>\n",
       "    </tr>\n",
       "  </tbody>\n",
       "</table>\n",
       "</div>"
      ],
      "text/plain": [
       "            x         y\n",
       "0   12.375547 -0.189668\n",
       "1   11.871277 -0.640457\n",
       "2    9.337963  0.086706\n",
       "3   11.955510 -0.573573\n",
       "4   11.764190 -0.718874\n",
       "5    8.973680  0.435954\n",
       "6    9.960836 -0.510751\n",
       "7   10.241642 -0.729002\n",
       "8   12.731838  0.164714\n",
       "9   10.731894 -0.965437\n",
       "10  10.372113 -0.811863\n",
       "11   9.704328 -0.275923\n",
       "12  11.346326 -0.939115\n",
       "13  12.354881 -0.209917\n",
       "14  10.967534 -0.999607\n",
       "15   9.370733  0.054019\n",
       "16   9.546705 -0.121625\n",
       "17   7.008122  0.663088\n",
       "18   6.843658  0.531587\n",
       "19   8.125264  0.963428\n",
       "20   9.997596 -0.542002\n",
       "21   7.373699  0.886864\n",
       "22   8.660802  0.691798\n",
       "23  12.843573  0.273666\n",
       "24  10.143464 -0.658396\n",
       "25   9.392011  0.032761\n",
       "26  11.541489 -0.854653\n",
       "27   9.554366 -0.129225\n",
       "28  12.295125 -0.267932\n",
       "29  10.622924 -0.931366\n",
       "30  12.618464  0.052069\n",
       "31  11.348224 -0.938461\n",
       "32   9.594078 -0.168493\n",
       "33   9.633896 -0.207598\n",
       "34   9.602552 -0.176839\n",
       "35   9.987269 -0.533295\n",
       "36  12.535870 -0.030496\n",
       "37  12.608661  0.042278\n",
       "38  11.252558 -0.967161\n",
       "39  11.411416 -0.914777\n",
       "40  11.509542 -0.870801\n",
       "41   9.043397  0.372203\n",
       "42  11.035687 -0.999196\n",
       "43   9.622602 -0.196537\n",
       "44  10.406754 -0.831597\n",
       "45   7.018002  0.670451\n",
       "46   8.637734  0.708270\n",
       "47  10.576851 -0.913609\n",
       "48  10.250655 -0.735143\n",
       "49   9.864670 -0.425842"
      ]
     },
     "execution_count": 47,
     "metadata": {},
     "output_type": "execute_result"
    }
   ],
   "source": [
    "df = pd.DataFrame({\"x\":x,\"y\":y})\n",
    "df"
   ]
  },
  {
   "cell_type": "code",
   "execution_count": 78,
   "id": "5b49b0e8-5c4b-4bc5-8160-38a2a3ea11a0",
   "metadata": {},
   "outputs": [
    {
     "data": {
      "text/plain": [
       "[<matplotlib.lines.Line2D at 0x2793b157ec0>]"
      ]
     },
     "execution_count": 78,
     "metadata": {},
     "output_type": "execute_result"
    },
    {
     "data": {
      "image/png": "[encoded data removed]",
      "text/plain": [
       "<Figure size 640x480 with 1 Axes>"
      ]
     },
     "metadata": {},
     "output_type": "display_data"
    }
   ],
   "source": [
    "#fig,ax = plt.subplots(figsize = (6,4))\n",
    "plt.plot(x,y)"
   ]
  },
  {
   "cell_type": "code",
   "execution_count": null,
   "id": "1ecb9b49-70e4-461e-b58e-78251c3c0c27",
   "metadata": {},
   "outputs": [],
   "source": []
  },
  {
   "cell_type": "code",
   "execution_count": 132,
   "id": "cccc3242-95a7-41d6-adf0-425ba135ef82",
   "metadata": {},
   "outputs": [],
   "source": [
    "x = np.linspace(0,2*np.pi,1000)\n",
    "y1 = np.sin(x)\n",
    "y2 = np.cos(x)\n",
    "y3 =np.tan(x)\n"
   ]
  },
  {
   "cell_type": "code",
   "execution_count": 143,
   "id": "d53f4587-b663-4a8f-9f5d-ef34acd45271",
   "metadata": {},
   "outputs": [
    {
     "data": {
      "image/png": "[encoded data removed]",
      "text/plain": [
       "<Figure size 1000x800 with 2 Axes>"
      ]
     },
     "metadata": {},
     "output_type": "display_data"
    }
   ],
   "source": [
    "fig,ax = plt.subplots(nrows = 2,ncols = 1,figsize = (10,8),sharex = True)\n",
    "ax[1].plot(x,y1,linewidth = 3);\n",
    "ax[0].plot(x,y2,linestyle = \"dashed\",color = \"orange\",linewidth = 3)\n",
    "ax[0].set(title = \"Cosine Curve\", ylabel = \"Cos (x)\")\n",
    "ax[1].set(title = \"Sine Curve\",ylabel = \"Sine (x)\");\n",
    "ax[0].grid();\n",
    "ax[1].grid()\n",
    "ax[0].tick_params(axis='x', which='both', length=0)\n",
    "plt.show()\n",
    "\n",
    "\n"
   ]
  },
  {
   "cell_type": "code",
   "execution_count": 137,
   "id": "ddcb5b79-f9a2-4f65-bc61-8ee046da62a5",
   "metadata": {},
   "outputs": [
    {
     "data": {
      "image/png": "[encoded data removed]",
      "text/plain": [
       "<Figure size 640x480 with 1 Axes>"
      ]
     },
     "metadata": {},
     "output_type": "display_data"
    }
   ],
   "source": [
    "fig,ax = plt.subplots()\n",
    "ax.plot(x,y1,label = \"Sine curve\",linestyle = \"dashed\")\n",
    "ax.plot(x,y2,label = \"Cosine curve\")\n",
    "plt.grid()\n",
    "plt.legend()\n",
    "plt.show()\n"
   ]
  },
  {
   "cell_type": "code",
   "execution_count": 144,
   "id": "db7ba1ef-5f99-40e2-8d54-fcff2fcc68d7",
   "metadata": {},
   "outputs": [],
   "source": [
    "z = np.random.normal(loc = 10,scale = 2,size = 1000)"
   ]
  },
  {
   "cell_type": "code",
   "execution_count": 174,
   "id": "b7a16484-7729-4bad-9b52-d3cda57b3878",
   "metadata": {},
   "outputs": [
    {
     "data": {
      "image/png": "[encoded data removed]",
      "text/plain": [
       "<Figure size 1000x1000 with 2 Axes>"
      ]
     },
     "metadata": {},
     "output_type": "display_data"
    }
   ],
   "source": [
    "fig,ax = plt.subplots(figsize = (10,10),nrows =2,sharex = True);\n",
    "ax[0].hist(z,density = True,bins = 25,edgecolor = \"black\",color = \"lightgray\");\n",
    "ax[1].hist(z,bins = 25,edgecolor = \"black\");\n",
    "ax[0].set(title = \"Density Histogram\", ylabel =\"Probability\" );\n",
    "ax[1].set(title = \"Frequency Histogram\", ylabel =\"Frequency\" ,xlabel = \"Data Values\");\n",
    "ax[0].tick_params(axis = \"x\",which = \"both\",length = 0)\n",
    "plt.show()"
   ]
  },
  {
   "cell_type": "code",
   "execution_count": 176,
   "id": "874d6b86-d479-45a1-b67d-303776f22173",
   "metadata": {},
   "outputs": [],
   "source": [
    "%matplotlib inline"
   ]
  },
  {
   "cell_type": "code",
   "execution_count": 178,
   "id": "09f162f0-a0e9-4868-b862-6827ef114783",
   "metadata": {},
   "outputs": [],
   "source": [
    "pd.options.display.float_format = \"{:,.2f}\".format\n",
    "pd.options.display.max_rows = 10\n",
    "plt.rcParams[\"figure.figsize\"] = (8,6)\n"
   ]
  },
  {
   "cell_type": "code",
   "execution_count": null,
   "id": "0cbf2e62-92e3-4629-88ed-3c46cb92a513",
   "metadata": {},
   "outputs": [],
   "source": []
  },
  {
   "cell_type": "code",
   "execution_count": null,
   "id": "728160a1-f801-46fd-b64e-0b819506d496",
   "metadata": {},
   "outputs": [],
   "source": []
  },
  {
   "cell_type": "code",
   "execution_count": null,
   "id": "5913cc9c-3d23-499b-90f2-d454beefac0d",
   "metadata": {},
   "outputs": [],
   "source": []
  },
  {
   "cell_type": "code",
   "execution_count": null,
   "id": "34138294-bf88-4014-8bde-0726a840a3b7",
   "metadata": {},
   "outputs": [],
   "source": []
  },
  {
   "cell_type": "code",
   "execution_count": null,
   "id": "4add9d65-6980-44f3-a0e0-534212745ebc",
   "metadata": {},
   "outputs": [],
   "source": []
  },
  {
   "cell_type": "code",
   "execution_count": null,
   "id": "3de5846f-d20d-40a1-9f55-debc6d274f9d",
   "metadata": {},
   "outputs": [],
   "source": []
  },
  {
   "cell_type": "code",
   "execution_count": null,
   "id": "bf7d7699-c01b-403b-b4f6-a31130017475",
   "metadata": {},
   "outputs": [],
   "source": []
  },
  {
   "cell_type": "code",
   "execution_count": null,
   "id": "1d45b193-a960-4444-babc-598d7a0735c2",
   "metadata": {},
   "outputs": [],
   "source": []
  },
  {
   "cell_type": "code",
   "execution_count": null,
   "id": "6f5ea74e-0e5e-4eb2-b288-9828789db3bc",
   "metadata": {},
   "outputs": [],
   "source": []
  },
  {
   "cell_type": "code",
   "execution_count": null,
   "id": "a69205c4-9dce-460a-bfde-69bdfe8097d0",
   "metadata": {},
   "outputs": [],
   "source": []
  },
  {
   "cell_type": "code",
   "execution_count": null,
   "id": "6df46ef5-e392-4b7b-9ad4-8c4b468ac777",
   "metadata": {},
   "outputs": [],
   "source": []
  },
  {
   "cell_type": "code",
   "execution_count": null,
   "id": "c2cf80b9-6029-4e32-991d-6c6c48a8959c",
   "metadata": {},
   "outputs": [],
   "source": []
  },
  {
   "cell_type": "code",
   "execution_count": null,
   "id": "54aed5a0-792d-4fb5-89da-2e85e647b2b3",
   "metadata": {},
   "outputs": [],
   "source": []
  },
  {
   "cell_type": "code",
   "execution_count": null,
   "id": "2fedfad3-6ed8-48b7-b54a-7896ebc532e2",
   "metadata": {},
   "outputs": [],
   "source": []
  },
  {
   "cell_type": "code",
   "execution_count": null,
   "id": "252e300f-82ac-4d49-969e-6716b65dde78",
   "metadata": {},
   "outputs": [],
   "source": []
  },
  {
   "cell_type": "code",
   "execution_count": null,
   "id": "e08b7ad5-bb67-4d1e-8e77-82cef181f5ca",
   "metadata": {},
   "outputs": [],
   "source": []
  },
  {
   "cell_type": "code",
   "execution_count": null,
   "id": "49ebf25f-55e3-4635-a561-8ab5b4e6f0ea",
   "metadata": {},
   "outputs": [],
   "source": []
  },
  {
   "cell_type": "code",
   "execution_count": null,
   "id": "764322e4-1577-44af-ac92-a2487919431c",
   "metadata": {},
   "outputs": [],
   "source": []
  },
  {
   "cell_type": "code",
   "execution_count": null,
   "id": "4f0c33fc-5058-4a8f-8646-ab6a8f673b77",
   "metadata": {},
   "outputs": [],
   "source": []
  },
  {
   "cell_type": "code",
   "execution_count": null,
   "id": "2169d809-73f8-43a1-b86f-14e1413d5a59",
   "metadata": {},
   "outputs": [],
   "source": []
  },
  {
   "cell_type": "code",
   "execution_count": null,
   "id": "1df4393e-2c20-43ce-b18b-a2db63fb8d8e",
   "metadata": {},
   "outputs": [],
   "source": []
  },
  {
   "cell_type": "code",
   "execution_count": null,
   "id": "a4abdde8-0004-4d99-b6ba-2ae4cfef3ce5",
   "metadata": {},
   "outputs": [],
   "source": []
  },
  {
   "cell_type": "code",
   "execution_count": null,
   "id": "326a2323-fdca-488e-9e3a-7fe96e8f293f",
   "metadata": {},
   "outputs": [],
   "source": []
  },
  {
   "cell_type": "code",
   "execution_count": null,
   "id": "e3c4503d-8e08-48c8-8c8e-3cfd0ca83977",
   "metadata": {},
   "outputs": [],
   "source": []
  },
  {
   "cell_type": "code",
   "execution_count": null,
   "id": "9b843b2b-1ea2-4a22-9b26-253e9083afda",
   "metadata": {},
   "outputs": [],
   "source": []
  },
  {
   "cell_type": "code",
   "execution_count": null,
   "id": "e7af68c8-7594-4952-bd3a-1c6a0618f9fa",
   "metadata": {},
   "outputs": [],
   "source": []
  },
  {
   "cell_type": "code",
   "execution_count": null,
   "id": "2670fb62-0459-4cfd-8b51-9f95acc20a05",
   "metadata": {},
   "outputs": [],
   "source": []
  },
  {
   "cell_type": "code",
   "execution_count": null,
   "id": "64757278-1504-4d9e-b25b-0987c7dfce7b",
   "metadata": {},
   "outputs": [],
   "source": []
  },
  {
   "cell_type": "code",
   "execution_count": null,
   "id": "b75e3a29-e551-4bba-889e-8d27b0ea79bb",
   "metadata": {},
   "outputs": [],
   "source": []
  },
  {
   "cell_type": "code",
   "execution_count": null,
   "id": "d592d062-4ef7-4410-bc77-7aa5763cb10b",
   "metadata": {},
   "outputs": [],
   "source": []
  },
  {
   "cell_type": "code",
   "execution_count": null,
   "id": "32ad7d28-2fd6-4839-a9a7-1e987560d3af",
   "metadata": {},
   "outputs": [],
   "source": []
  },
  {
   "cell_type": "code",
   "execution_count": null,
   "id": "a913bfed-f634-4fb4-af2b-8372cc5019b7",
   "metadata": {},
   "outputs": [],
   "source": []
  },
  {
   "cell_type": "code",
   "execution_count": null,
   "id": "b19d6659-bfc0-4d5e-a80b-a2e13ec2341b",
   "metadata": {},
   "outputs": [],
   "source": []
  },
  {
   "cell_type": "code",
   "execution_count": null,
   "id": "100127f8-d619-48b4-a6a5-e7d57e83dc1f",
   "metadata": {},
   "outputs": [],
   "source": []
  },
  {
   "cell_type": "code",
   "execution_count": null,
   "id": "2f615b85-8632-44a4-9ffe-52e63d0d67ba",
   "metadata": {},
   "outputs": [],
   "source": []
  },
  {
   "cell_type": "code",
   "execution_count": null,
   "id": "d626b3ae-2307-4d35-a950-2e8836797842",
   "metadata": {},
   "outputs": [],
   "source": []
  },
  {
   "cell_type": "code",
   "execution_count": null,
   "id": "6338cb78-6636-4d7d-8446-5c4e907e3598",
   "metadata": {},
   "outputs": [],
   "source": []
  },
  {
   "cell_type": "code",
   "execution_count": null,
   "id": "df08315a-2859-471b-a144-4beec2f92c6d",
   "metadata": {},
   "outputs": [],
   "source": []
  },
  {
   "cell_type": "code",
   "execution_count": null,
   "id": "bb0b8041-ebc2-49f6-b32c-8e5bd349b658",
   "metadata": {},
   "outputs": [],
   "source": []
  },
  {
   "cell_type": "code",
   "execution_count": null,
   "id": "947c792f-d15d-464a-9f2a-236c1c8b103b",
   "metadata": {},
   "outputs": [],
   "source": []
  },
  {
   "cell_type": "code",
   "execution_count": null,
   "id": "6f5c27f0-7a3d-4f04-8540-3da18e723757",
   "metadata": {},
   "outputs": [],
   "source": []
  },
  {
   "cell_type": "code",
   "execution_count": null,
   "id": "89ec2903-9fe6-4812-bf86-3a68e77f7ea2",
   "metadata": {},
   "outputs": [],
   "source": []
  },
  {
   "cell_type": "code",
   "execution_count": null,
   "id": "27690c90-534d-4e28-b9a7-c6a7aa42dd99",
   "metadata": {},
   "outputs": [],
   "source": []
  },
  {
   "cell_type": "code",
   "execution_count": null,
   "id": "0cd8e569-04e4-4d01-86b6-151b37a1b223",
   "metadata": {},
   "outputs": [],
   "source": []
  },
  {
   "cell_type": "code",
   "execution_count": null,
   "id": "f5eac68e-767d-4eaa-a871-346f312cafad",
   "metadata": {},
   "outputs": [],
   "source": []
  },
  {
   "cell_type": "code",
   "execution_count": null,
   "id": "2955cc6f-8278-45c4-ae29-77fb26a8cb30",
   "metadata": {},
   "outputs": [],
   "source": []
  },
  {
   "cell_type": "code",
   "execution_count": null,
   "id": "0242500d-3b2b-4c2c-b3d9-01c9de42e1fb",
   "metadata": {},
   "outputs": [],
   "source": []
  },
  {
   "cell_type": "code",
   "execution_count": null,
   "id": "f10f29d5-ad7f-4ed4-bfde-c47e5dae8dd3",
   "metadata": {},
   "outputs": [],
   "source": []
  },
  {
   "cell_type": "code",
   "execution_count": null,
   "id": "d569c480-c154-41be-a4fe-b544f552560f",
   "metadata": {},
   "outputs": [],
   "source": []
  },
  {
   "cell_type": "code",
   "execution_count": null,
   "id": "4064ce0e-ab33-4a1b-8d17-4d4cad509686",
   "metadata": {},
   "outputs": [],
   "source": []
  },
  {
   "cell_type": "code",
   "execution_count": null,
   "id": "3e012991-d4f1-4d96-9b36-ed9086b2e71d",
   "metadata": {},
   "outputs": [],
   "source": []
  },
  {
   "cell_type": "code",
   "execution_count": null,
   "id": "530b8ebd-d6fe-4c6a-9a80-8b0d8d50bf85",
   "metadata": {},
   "outputs": [],
   "source": []
  },
  {
   "cell_type": "code",
   "execution_count": null,
   "id": "7b2b6a2e-e038-4ce1-aff5-6d2b75a39186",
   "metadata": {},
   "outputs": [],
   "source": []
  },
  {
   "cell_type": "code",
   "execution_count": null,
   "id": "3ddba3c3-a5f0-407d-b43b-e48beb3b35c9",
   "metadata": {},
   "outputs": [],
   "source": []
  },
  {
   "cell_type": "code",
   "execution_count": null,
   "id": "7c60418d-5925-4eaf-96c2-a79894e1b687",
   "metadata": {},
   "outputs": [],
   "source": []
  },
  {
   "cell_type": "code",
   "execution_count": null,
   "id": "cbb30029-3cd4-44ae-96a8-60a7ff23ae61",
   "metadata": {},
   "outputs": [],
   "source": []
  },
  {
   "cell_type": "code",
   "execution_count": null,
   "id": "543760fe-a5dc-406d-a43e-3dfac741e94c",
   "metadata": {},
   "outputs": [],
   "source": []
  },
  {
   "cell_type": "code",
   "execution_count": null,
   "id": "01c1efd5-ecf4-4a17-bf0f-9ce2cc8b459b",
   "metadata": {},
   "outputs": [],
   "source": []
  },
  {
   "cell_type": "code",
   "execution_count": null,
   "id": "139f586a-cecd-4201-9e1f-e621c4f0d485",
   "metadata": {},
   "outputs": [],
   "source": []
  },
  {
   "cell_type": "code",
   "execution_count": null,
   "id": "31647a3f-d322-47d2-aac4-ed076682b881",
   "metadata": {},
   "outputs": [],
   "source": []
  },
  {
   "cell_type": "code",
   "execution_count": null,
   "id": "cb42371c-7c49-464d-ac9b-23a3c8f2eb0a",
   "metadata": {},
   "outputs": [],
   "source": []
  },
  {
   "cell_type": "code",
   "execution_count": null,
   "id": "c07d0d32-56eb-4edc-89a2-cb4195f8482f",
   "metadata": {},
   "outputs": [],
   "source": []
  },
  {
   "cell_type": "code",
   "execution_count": null,
   "id": "22e31b31-8ec4-4f1a-93e4-85cda34ef16e",
   "metadata": {},
   "outputs": [],
   "source": []
  },
  {
   "cell_type": "code",
   "execution_count": null,
   "id": "d0541f21-69e5-4870-bdbc-a219333c53f4",
   "metadata": {},
   "outputs": [],
   "source": []
  },
  {
   "cell_type": "code",
   "execution_count": null,
   "id": "7ee12460-ad76-4aa0-9ae5-d5349bda11ee",
   "metadata": {},
   "outputs": [],
   "source": []
  },
  {
   "cell_type": "code",
   "execution_count": null,
   "id": "c695888f-0e63-412c-a055-f52916ca9fea",
   "metadata": {},
   "outputs": [],
   "source": []
  },
  {
   "cell_type": "code",
   "execution_count": null,
   "id": "62090912-97a1-4d31-8f87-b4610b7fa78a",
   "metadata": {},
   "outputs": [],
   "source": []
  },
  {
   "cell_type": "code",
   "execution_count": null,
   "id": "e7fc37d6-e01e-4ea3-a785-d2df2e49d2f1",
   "metadata": {},
   "outputs": [],
   "source": []
  },
  {
   "cell_type": "code",
   "execution_count": null,
   "id": "2003df08-b36e-4e51-91ee-03f76897f283",
   "metadata": {},
   "outputs": [],
   "source": []
  },
  {
   "cell_type": "code",
   "execution_count": null,
   "id": "6666ffcd-5b4f-4ee0-86e8-1587737237b3",
   "metadata": {},
   "outputs": [],
   "source": []
  },
  {
   "cell_type": "code",
   "execution_count": null,
   "id": "95dec61f-71fe-4970-b1e0-405d41edc63f",
   "metadata": {},
   "outputs": [],
   "source": []
  },
  {
   "cell_type": "code",
   "execution_count": null,
   "id": "941d3f7e-e3b0-4d8f-a00c-e5d68d2a9141",
   "metadata": {},
   "outputs": [],
   "source": []
  },
  {
   "cell_type": "code",
   "execution_count": null,
   "id": "b22749a1-4f42-4d90-a9ec-23339c5654db",
   "metadata": {},
   "outputs": [],
   "source": []
  },
  {
   "cell_type": "code",
   "execution_count": null,
   "id": "88403f19-4e19-4742-a758-16453a3675dd",
   "metadata": {},
   "outputs": [],
   "source": []
  },
  {
   "cell_type": "code",
   "execution_count": null,
   "id": "fcf3c818-cf0f-4300-ab88-4c0e66d051ab",
   "metadata": {},
   "outputs": [],
   "source": []
  },
  {
   "cell_type": "code",
   "execution_count": null,
   "id": "408b58e4-e748-485d-a4b3-4f972f980542",
   "metadata": {},
   "outputs": [],
   "source": []
  },
  {
   "cell_type": "code",
   "execution_count": null,
   "id": "e8197666-2ec2-42e0-90b1-268a58ad2bd4",
   "metadata": {},
   "outputs": [],
   "source": []
  },
  {
   "cell_type": "code",
   "execution_count": null,
   "id": "e85d88c5-15e3-420f-9bc3-d74c6c817141",
   "metadata": {},
   "outputs": [],
   "source": []
  },
  {
   "cell_type": "code",
   "execution_count": null,
   "id": "42465847-8475-41bf-b14a-abcfe1828e33",
   "metadata": {},
   "outputs": [],
   "source": []
  },
  {
   "cell_type": "code",
   "execution_count": null,
   "id": "b888abb0-5ddf-4477-b72e-156beb73e955",
   "metadata": {},
   "outputs": [],
   "source": []
  },
  {
   "cell_type": "code",
   "execution_count": null,
   "id": "76f14259-ca69-4857-aca7-d8a5aafd87a8",
   "metadata": {},
   "outputs": [],
   "source": []
  },
  {
   "cell_type": "code",
   "execution_count": null,
   "id": "794192bd-94ee-45ef-872d-4fcb9eb8d86d",
   "metadata": {},
   "outputs": [],
   "source": []
  },
  {
   "cell_type": "code",
   "execution_count": null,
   "id": "0d97969b-ffab-4811-aa02-c6870a5f9318",
   "metadata": {},
   "outputs": [],
   "source": []
  },
  {
   "cell_type": "code",
   "execution_count": null,
   "id": "d1fe6bb0-3381-480e-b2d4-d2a7fb02cfa8",
   "metadata": {},
   "outputs": [],
   "source": []
  },
  {
   "cell_type": "code",
   "execution_count": null,
   "id": "f6a4d79d-e816-42c5-a3e4-04ba0606ebda",
   "metadata": {},
   "outputs": [],
   "source": []
  },
  {
   "cell_type": "code",
   "execution_count": null,
   "id": "39ebd8d1-e1f2-424e-baf4-72714f86aee9",
   "metadata": {},
   "outputs": [],
   "source": []
  },
  {
   "cell_type": "code",
   "execution_count": null,
   "id": "8c7e2e43-8bf8-4d57-88eb-8ecb4e5f606d",
   "metadata": {},
   "outputs": [],
   "source": []
  },
  {
   "cell_type": "code",
   "execution_count": null,
   "id": "36fd35f2-6208-4bb7-a954-fbe4ace03190",
   "metadata": {},
   "outputs": [],
   "source": []
  },
  {
   "cell_type": "code",
   "execution_count": null,
   "id": "dba0eb9a-cde2-4256-8476-653ae3f88be5",
   "metadata": {},
   "outputs": [],
   "source": []
  },
  {
   "cell_type": "code",
   "execution_count": null,
   "id": "ffb12455-e506-453a-93d2-14ce8a969ed1",
   "metadata": {},
   "outputs": [],
   "source": []
  },
  {
   "cell_type": "code",
   "execution_count": null,
   "id": "1ba8b4ae-07a4-4a43-80aa-0a265b64390f",
   "metadata": {},
   "outputs": [],
   "source": []
  },
  {
   "cell_type": "code",
   "execution_count": null,
   "id": "36d37b30-9bb5-48d4-8054-0724776b259d",
   "metadata": {},
   "outputs": [],
   "source": []
  },
  {
   "cell_type": "code",
   "execution_count": null,
   "id": "9643b463-9a1a-4a7c-8a68-ab6550e57fa2",
   "metadata": {},
   "outputs": [],
   "source": []
  },
  {
   "cell_type": "code",
   "execution_count": null,
   "id": "c1ff0fd2-e759-454f-91c2-0c6af47f9d89",
   "metadata": {},
   "outputs": [],
   "source": []
  },
  {
   "cell_type": "code",
   "execution_count": null,
   "id": "cf5d06f3-dcb9-44ac-9618-b2a71cdde785",
   "metadata": {},
   "outputs": [],
   "source": []
  },
  {
   "cell_type": "code",
   "execution_count": null,
   "id": "e0f56c02-9f67-4606-bbe3-01df1540d202",
   "metadata": {},
   "outputs": [],
   "source": []
  },
  {
   "cell_type": "code",
   "execution_count": null,
   "id": "a0329c39-af15-4cf9-b390-bba85b00cd9a",
   "metadata": {},
   "outputs": [],
   "source": []
  }
 ],
 "metadata": {
  "kernelspec": {
   "display_name": "Python 3 (ipykernel)",
   "language": "python",
   "name": "python3"
  },
  "language_info": {
   "codemirror_mode": {
    "name": "ipython",
    "version": 3
   },
   "file_extension": ".py",
   "mimetype": "text/x-python",
   "name": "python",
   "nbconvert_exporter": "python",
   "pygments_lexer": "ipython3",
   "version": "3.12.4"
  }
 },
 "nbformat": 4,
 "nbformat_minor": 5
}
