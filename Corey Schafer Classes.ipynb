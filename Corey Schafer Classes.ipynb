{
 "cells": [
  {
   "cell_type": "code",
   "execution_count": 1,
   "id": "1b60760f-f581-4629-b7ed-a77a7268b556",
   "metadata": {},
   "outputs": [],
   "source": [
    "class Employee:\n",
    "    pass\n"
   ]
  },
  {
   "cell_type": "code",
   "execution_count": 2,
   "id": "be6f754a-3add-4ba6-ba93-1074849cd1f4",
   "metadata": {},
   "outputs": [],
   "source": [
    "emp_1 = Employee()\n",
    "emp_2 = Employee()"
   ]
  },
  {
   "cell_type": "code",
   "execution_count": 4,
   "id": "79b2ae21-83e3-4028-9c3f-70dca885d2d8",
   "metadata": {},
   "outputs": [
    {
     "name": "stdout",
     "output_type": "stream",
     "text": [
      "<__main__.Employee object at 0x00000209860CC8F0>\n",
      "<__main__.Employee object at 0x0000020986B95400>\n"
     ]
    }
   ],
   "source": [
    "print(emp_1)\n",
    "print(emp_2)"
   ]
  },
  {
   "cell_type": "code",
   "execution_count": 6,
   "id": "df42e5fc-5186-40b4-9b48-bf4890db5b9f",
   "metadata": {},
   "outputs": [],
   "source": [
    "emp_1.first = \"Corey\"\n",
    "emp_1.last = \"Schafer\"\n",
    "emp_1.email = \"Corey.Scahfer@company.com\"\n",
    "emp_1.pay = 50000"
   ]
  },
  {
   "cell_type": "code",
   "execution_count": 7,
   "id": "9265d109-f573-4000-9006-cec2d7d05f31",
   "metadata": {},
   "outputs": [],
   "source": [
    "emp_2.first = \"Test\"\n",
    "emp_2.last = \"User\"\n",
    "emp_2.email = \"Test.User@company.com\"\n",
    "emp_2.pay = 60000"
   ]
  },
  {
   "cell_type": "code",
   "execution_count": 9,
   "id": "f30cb0fb-325c-46d1-88c6-d36016f628f7",
   "metadata": {},
   "outputs": [
    {
     "name": "stdout",
     "output_type": "stream",
     "text": [
      "Corey.Scahfer@company.com\n",
      "Test.User@company.com\n"
     ]
    }
   ],
   "source": [
    "print(emp_1.email)\n",
    "print(emp_2.email)"
   ]
  },
  {
   "cell_type": "code",
   "execution_count": null,
   "id": "97696012-e546-4591-a9e2-561b4e39fcf0",
   "metadata": {},
   "outputs": [],
   "source": []
  },
  {
   "cell_type": "code",
   "execution_count": 52,
   "id": "f6973d20-ca01-4907-8358-5e964a3aefed",
   "metadata": {},
   "outputs": [],
   "source": [
    "class Employee:\n",
    "    def __init__(self,first,last,pay):\n",
    "        self.first = first\n",
    "        self.last = last\n",
    "        self.pay = pay\n",
    "        self.email = first + \".\" + last + \"@company.com\"\n",
    "\n",
    "    def fullname(self):\n",
    "        return \"{} {}\".format(self.first,self.last)\n",
    "\n",
    "    def apply_raise(self):\n",
    "        self.pay = int(self.pay * 1.04)"
   ]
  },
  {
   "cell_type": "code",
   "execution_count": 22,
   "id": "59abea32-c050-4c51-95e4-e3cc47b4cb9a",
   "metadata": {},
   "outputs": [],
   "source": [
    "emp_1 = Employee(\"Corey\",\"Schafer\",50000)\n",
    "emp_2 = Employee(\"Test\",\"User\",60000)"
   ]
  },
  {
   "cell_type": "code",
   "execution_count": 13,
   "id": "75462c00-36ea-4afc-b9a8-a0a82a6b06c0",
   "metadata": {},
   "outputs": [
    {
     "name": "stdout",
     "output_type": "stream",
     "text": [
      "Corey.Schafer@company.com\n",
      "Test.User@company.com\n"
     ]
    }
   ],
   "source": [
    "print(emp_1.email)\n",
    "print(emp_2.email)"
   ]
  },
  {
   "cell_type": "code",
   "execution_count": null,
   "id": "5a05fb51-112e-44fd-a5aa-e28e69acb226",
   "metadata": {},
   "outputs": [],
   "source": []
  },
  {
   "cell_type": "code",
   "execution_count": 14,
   "id": "584dac85-1735-4dff-9bf1-aee4e88ca757",
   "metadata": {},
   "outputs": [],
   "source": []
  },
  {
   "cell_type": "code",
   "execution_count": 23,
   "id": "ef746293-4ae9-4e76-932c-fec8a246eedf",
   "metadata": {},
   "outputs": [
    {
     "name": "stdout",
     "output_type": "stream",
     "text": [
      "Corey Schafer\n"
     ]
    }
   ],
   "source": [
    "print(emp_1.fullname())"
   ]
  },
  {
   "cell_type": "code",
   "execution_count": 24,
   "id": "bb6893c6-084e-4a26-b07e-130f070f61d1",
   "metadata": {},
   "outputs": [
    {
     "name": "stdout",
     "output_type": "stream",
     "text": [
      "Test User\n"
     ]
    }
   ],
   "source": [
    "print(emp_2.fullname())"
   ]
  },
  {
   "cell_type": "code",
   "execution_count": null,
   "id": "09c02cbf-f01f-4b07-a282-bd6c250cb76b",
   "metadata": {},
   "outputs": [],
   "source": []
  },
  {
   "cell_type": "code",
   "execution_count": 27,
   "id": "564bd296-d64b-4237-a7cb-f7f51c8eecec",
   "metadata": {},
   "outputs": [
    {
     "name": "stdout",
     "output_type": "stream",
     "text": [
      "Corey Schafer\n"
     ]
    }
   ],
   "source": [
    "print(Employee.fullname(emp_1))"
   ]
  },
  {
   "cell_type": "code",
   "execution_count": 28,
   "id": "6484a203-1051-489f-b406-294b0f99fd6c",
   "metadata": {},
   "outputs": [
    {
     "name": "stdout",
     "output_type": "stream",
     "text": [
      "Test User\n"
     ]
    }
   ],
   "source": [
    "print(Employee.fullname(emp_2))"
   ]
  },
  {
   "cell_type": "code",
   "execution_count": null,
   "id": "9d2f01b4-1e21-469a-8206-de8c6e06c937",
   "metadata": {},
   "outputs": [],
   "source": []
  },
  {
   "cell_type": "code",
   "execution_count": 62,
   "id": "c6e2814b-caee-412d-86db-5a3663030b34",
   "metadata": {},
   "outputs": [],
   "source": [
    "class Employee:\n",
    "    def __init__(self,first,last,pay):\n",
    "        self.first = first\n",
    "        self.last = last\n",
    "        self.pay = pay\n",
    "        self.email = first + \".\" + last + \"@company.com\"\n",
    "\n",
    "    def fullname(self):\n",
    "        return \"{} {}\".format(self.first,self.last)\n",
    "\n",
    "    def apply_raise(self):\n",
    "        self.pay = int(self.pay * 1.04)\n",
    "        "
   ]
  },
  {
   "cell_type": "code",
   "execution_count": 44,
   "id": "6c5488bb-2ffe-4c8a-bbc1-87f8b98137ef",
   "metadata": {},
   "outputs": [
    {
     "name": "stdout",
     "output_type": "stream",
     "text": [
      "50000\n"
     ]
    }
   ],
   "source": [
    "print(emp_1.pay)"
   ]
  },
  {
   "cell_type": "code",
   "execution_count": 63,
   "id": "13612a08-d88a-49a4-b30a-73ee29735924",
   "metadata": {},
   "outputs": [],
   "source": [
    "emp_1 = Employee(\"Corey\",\"Schafer\",50000)\n",
    "emp_2 = Employee(\"Test\",\"User\",60000)"
   ]
  },
  {
   "cell_type": "code",
   "execution_count": 64,
   "id": "1de4cd56-d0e8-49d6-86ed-b14e1453e7bc",
   "metadata": {},
   "outputs": [
    {
     "name": "stdout",
     "output_type": "stream",
     "text": [
      "None\n"
     ]
    }
   ],
   "source": [
    "print(emp_1.apply_raise())"
   ]
  },
  {
   "cell_type": "code",
   "execution_count": null,
   "id": "ce461c16-77e2-4815-9be8-7cc25803286b",
   "metadata": {},
   "outputs": [],
   "source": []
  },
  {
   "cell_type": "code",
   "execution_count": 78,
   "id": "2ebbcba3-b7fc-4677-82cb-4097a148b0d6",
   "metadata": {},
   "outputs": [],
   "source": [
    "class Employee:\n",
    "    def __init__(self, first, last, pay):\n",
    "        self.first = first\n",
    "        self.last = last\n",
    "        self.pay = pay\n",
    "        self.email = f\"{first}.{last}@company.com\"  \n",
    "    def fullname(self):\n",
    "        return f\"{self.first} {self.last}\" \n",
    "\n",
    "    def apply_raise(self):\n",
    "        self.pay = int(self.pay * 1.04) \n",
    "        return self.pay\n"
   ]
  },
  {
   "cell_type": "code",
   "execution_count": 79,
   "id": "fd9919f7-b346-4f49-b191-9e8e187cdfaa",
   "metadata": {},
   "outputs": [],
   "source": [
    "emp_1 = Employee(\"Corey\",\"Schafer\",50000)\n",
    "emp_2 = Employee(\"Test\",\"User\",60000)"
   ]
  },
  {
   "cell_type": "code",
   "execution_count": 81,
   "id": "889f9baf-9d0f-4e4a-a420-ee4e19fae444",
   "metadata": {},
   "outputs": [
    {
     "name": "stdout",
     "output_type": "stream",
     "text": [
      "54080\n"
     ]
    }
   ],
   "source": [
    "print(emp_1.apply_raise())"
   ]
  },
  {
   "cell_type": "code",
   "execution_count": null,
   "id": "b109d667-f6d6-4cc8-961e-8331d449d848",
   "metadata": {},
   "outputs": [],
   "source": []
  },
  {
   "cell_type": "code",
   "execution_count": null,
   "id": "3f3c9a4c-e053-46f2-b0f5-f2ad23b40e9a",
   "metadata": {},
   "outputs": [],
   "source": []
  },
  {
   "cell_type": "code",
   "execution_count": null,
   "id": "50c9dac2-7b9a-4ad5-8d61-a6ab82e7eb87",
   "metadata": {},
   "outputs": [],
   "source": []
  },
  {
   "cell_type": "code",
   "execution_count": null,
   "id": "481ab4af-d076-4ff3-9da4-06d878d3eec4",
   "metadata": {},
   "outputs": [],
   "source": []
  },
  {
   "cell_type": "code",
   "execution_count": null,
   "id": "47bd3336-eae4-4745-bd82-aed08bd0bf3c",
   "metadata": {},
   "outputs": [],
   "source": []
  },
  {
   "cell_type": "code",
   "execution_count": null,
   "id": "c97f9323-d44b-43ce-9c19-7c66fbf239b1",
   "metadata": {},
   "outputs": [],
   "source": []
  },
  {
   "cell_type": "code",
   "execution_count": null,
   "id": "a2cfd175-c867-4466-96ae-df477b5a51b9",
   "metadata": {},
   "outputs": [],
   "source": []
  },
  {
   "cell_type": "code",
   "execution_count": null,
   "id": "8871f02b-08da-4dda-b004-b9cb85e030d3",
   "metadata": {},
   "outputs": [],
   "source": []
  },
  {
   "cell_type": "code",
   "execution_count": null,
   "id": "c38207a1-c531-4f31-a55b-d7a362bb3db2",
   "metadata": {},
   "outputs": [],
   "source": []
  },
  {
   "cell_type": "code",
   "execution_count": null,
   "id": "566277c0-2791-4dc3-99d8-a5254418cdd2",
   "metadata": {},
   "outputs": [],
   "source": []
  },
  {
   "cell_type": "code",
   "execution_count": null,
   "id": "7418821f-0e91-4ac9-a342-9733170449ce",
   "metadata": {},
   "outputs": [],
   "source": []
  },
  {
   "cell_type": "code",
   "execution_count": null,
   "id": "95b31a46-55a2-40de-b886-f5f4c1b5804d",
   "metadata": {},
   "outputs": [],
   "source": []
  },
  {
   "cell_type": "code",
   "execution_count": null,
   "id": "4f6697b2-65a3-4209-ab1f-25351b7ec0a8",
   "metadata": {},
   "outputs": [],
   "source": []
  },
  {
   "cell_type": "code",
   "execution_count": null,
   "id": "d1d2fb6e-2e6f-4aad-9d42-99bbc5fa862c",
   "metadata": {},
   "outputs": [],
   "source": []
  }
 ],
 "metadata": {
  "kernelspec": {
   "display_name": "Python 3 (ipykernel)",
   "language": "python",
   "name": "python3"
  },
  "language_info": {
   "codemirror_mode": {
    "name": "ipython",
    "version": 3
   },
   "file_extension": ".py",
   "mimetype": "text/x-python",
   "name": "python",
   "nbconvert_exporter": "python",
   "pygments_lexer": "ipython3",
   "version": "3.12.4"
  }
 },
 "nbformat": 4,
 "nbformat_minor": 5
}
