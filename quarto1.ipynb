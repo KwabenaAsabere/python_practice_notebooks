{
 "cells": [
  {
   "cell_type": "markdown",
   "id": "b7c62d23-67f7-475c-915d-2b04c39a6084",
   "metadata": {},
   "source": []
  },
  {
   "cell_type": "code",
   "execution_count": 7,
   "id": "579bdcda-c1d3-488e-bd8c-4af0ba1d79e3",
   "metadata": {},
   "outputs": [],
   "source": [
    "import pandas as pd "
   ]
  },
  {
   "cell_type": "markdown",
   "id": "928df3a3-8e9d-474c-9af6-ec437ce1c536",
   "metadata": {},
   "source": [
    "### usmle"
   ]
  }
 ],
 "metadata": {
  "kernelspec": {
   "display_name": "Python 3 (ipykernel)",
   "language": "python",
   "name": "python3"
  },
  "language_info": {
   "codemirror_mode": {
    "name": "ipython",
    "version": 3
   },
   "file_extension": ".py",
   "mimetype": "text/x-python",
   "name": "python",
   "nbconvert_exporter": "python",
   "pygments_lexer": "ipython3",
   "version": "3.12.4"
  }
 },
 "nbformat": 4,
 "nbformat_minor": 5
}
