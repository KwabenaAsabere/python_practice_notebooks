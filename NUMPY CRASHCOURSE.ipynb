{
 "cells": [
  {
   "cell_type": "code",
   "execution_count": 1,
   "id": "57db6585-a8d8-44e1-a8b4-7400d348d430",
   "metadata": {},
   "outputs": [],
   "source": [
    "import numpy as np"
   ]
  },
  {
   "cell_type": "code",
   "execution_count": 2,
   "id": "a546182e-b393-4ba7-bb6c-92f6940ecefa",
   "metadata": {},
   "outputs": [],
   "source": [
    "a = np.array([1,2,3,4,5])"
   ]
  },
  {
   "cell_type": "code",
   "execution_count": 3,
   "id": "54765ef2-c4e6-4b3b-9ce7-fc702ea29bc9",
   "metadata": {},
   "outputs": [
    {
     "name": "stdout",
     "output_type": "stream",
     "text": [
      "[1 2 3 4 5]\n"
     ]
    }
   ],
   "source": [
    "print(a)"
   ]
  },
  {
   "cell_type": "code",
   "execution_count": 4,
   "id": "a426fe33-a086-41ff-ad92-8938eef20b6b",
   "metadata": {},
   "outputs": [
    {
     "name": "stdout",
     "output_type": "stream",
     "text": [
      "2\n"
     ]
    }
   ],
   "source": [
    "print(a[1])"
   ]
  },
  {
   "cell_type": "code",
   "execution_count": 5,
   "id": "07c23fbc-3ba3-40ab-b9e7-5a5bfbaae346",
   "metadata": {},
   "outputs": [
    {
     "name": "stdout",
     "output_type": "stream",
     "text": [
      "[3 4 5]\n"
     ]
    }
   ],
   "source": [
    "print(a[2:])"
   ]
  },
  {
   "cell_type": "code",
   "execution_count": 8,
   "id": "5dc7100e-8cea-4817-be92-4731ebe0c2c3",
   "metadata": {},
   "outputs": [],
   "source": [
    "a_mul = np.array([[1,2,3],\n",
    "                [4,5,6],\n",
    "                [7,8,9]])"
   ]
  },
  {
   "cell_type": "code",
   "execution_count": 9,
   "id": "cc5087bc-77cb-4374-9564-1de804ff711b",
   "metadata": {},
   "outputs": [
    {
     "name": "stdout",
     "output_type": "stream",
     "text": [
      "(3, 3)\n"
     ]
    }
   ],
   "source": [
    "print(a_mul.shape)"
   ]
  },
  {
   "cell_type": "code",
   "execution_count": 10,
   "id": "f296bb78-3a45-4f9d-bba1-c95162e9c37a",
   "metadata": {},
   "outputs": [
    {
     "data": {
      "text/plain": [
       "2"
      ]
     },
     "execution_count": 10,
     "metadata": {},
     "output_type": "execute_result"
    }
   ],
   "source": [
    "a_mul.ndim"
   ]
  },
  {
   "cell_type": "code",
   "execution_count": 11,
   "id": "27b5dc2e-eb2b-43e8-808c-fd02f9d61eea",
   "metadata": {},
   "outputs": [
    {
     "data": {
      "text/plain": [
       "9"
      ]
     },
     "execution_count": 11,
     "metadata": {},
     "output_type": "execute_result"
    }
   ],
   "source": [
    "a_mul.size"
   ]
  },
  {
   "cell_type": "code",
   "execution_count": 13,
   "id": "eb99fe69-40ed-4933-b4b5-4156cc998005",
   "metadata": {},
   "outputs": [
    {
     "name": "stdout",
     "output_type": "stream",
     "text": [
      "int32\n"
     ]
    }
   ],
   "source": [
    "print(a_mul.dtype)"
   ]
  },
  {
   "cell_type": "code",
   "execution_count": null,
   "id": "ecf26b57-ebc4-4f97-a644-89ccd1819f38",
   "metadata": {},
   "outputs": [],
   "source": []
  },
  {
   "cell_type": "code",
   "execution_count": 16,
   "id": "40b99e8a-b1a4-48b2-b66b-a8a3178661f0",
   "metadata": {},
   "outputs": [],
   "source": [
    "a = np.array([[1,2,3],\n",
    "             [4,\"hello\",6],\n",
    "             [7,8,9]])"
   ]
  },
  {
   "cell_type": "code",
   "execution_count": 15,
   "id": "39d76dd0-50a2-42fa-9571-2354a8789058",
   "metadata": {
    "scrolled": true
   },
   "outputs": [
    {
     "name": "stdout",
     "output_type": "stream",
     "text": [
      "<U11\n"
     ]
    }
   ],
   "source": [
    "print(a.dtype)"
   ]
  },
  {
   "cell_type": "code",
   "execution_count": 17,
   "id": "9930fda8-6b4a-401b-9b31-2b57a211fbc1",
   "metadata": {},
   "outputs": [
    {
     "name": "stdout",
     "output_type": "stream",
     "text": [
      "<U1\n"
     ]
    }
   ],
   "source": [
    "print(a[0][0].dtype)"
   ]
  },
  {
   "cell_type": "code",
   "execution_count": null,
   "id": "f7139667-8c00-4836-b68a-3c8d8c14abec",
   "metadata": {},
   "outputs": [],
   "source": []
  },
  {
   "cell_type": "code",
   "execution_count": 19,
   "id": "69127c1c-c317-4fe5-911b-7e2dae9e89d9",
   "metadata": {},
   "outputs": [],
   "source": [
    "a = np.array([[1,2,3],\n",
    "             [4,\"5\",6],\n",
    "             [7,8,9]],dtype = np.float32)"
   ]
  },
  {
   "cell_type": "code",
   "execution_count": 21,
   "id": "9e1cbbe3-51ee-47c6-97f7-5e0fef34d2e7",
   "metadata": {},
   "outputs": [
    {
     "name": "stdout",
     "output_type": "stream",
     "text": [
      "float32\n"
     ]
    }
   ],
   "source": [
    "print(a[1][1].dtype)"
   ]
  },
  {
   "cell_type": "code",
   "execution_count": null,
   "id": "fc7deb90-c302-4f8a-9f88-cd480ca36989",
   "metadata": {},
   "outputs": [],
   "source": []
  },
  {
   "cell_type": "markdown",
   "id": "0dce71d7-28e1-4999-bfe1-6e93ee6a0510",
   "metadata": {},
   "source": [
    "### **To fill a numpy array with Uniform values**"
   ]
  },
  {
   "cell_type": "code",
   "execution_count": 24,
   "id": "862bae4e-7297-493e-ab99-11516da53639",
   "metadata": {},
   "outputs": [],
   "source": []
  },
  {
   "cell_type": "code",
   "execution_count": 26,
   "id": "7a431733-a04c-4577-ae91-acb21b573c86",
   "metadata": {},
   "outputs": [
    {
     "name": "stdout",
     "output_type": "stream",
     "text": [
      "[[[9 9 9 9]\n",
      "  [9 9 9 9]\n",
      "  [9 9 9 9]]\n",
      "\n",
      " [[9 9 9 9]\n",
      "  [9 9 9 9]\n",
      "  [9 9 9 9]]]\n"
     ]
    }
   ],
   "source": [
    "a = np.full((2,3,4), 9)\n",
    "print(a)"
   ]
  },
  {
   "cell_type": "code",
   "execution_count": 27,
   "id": "c1226ad4-9e61-4c30-98de-f2b0163bcc9e",
   "metadata": {},
   "outputs": [
    {
     "data": {
      "text/plain": [
       "array([[0., 0., 0., 0.],\n",
       "       [0., 0., 0., 0.],\n",
       "       [0., 0., 0., 0.]])"
      ]
     },
     "execution_count": 27,
     "metadata": {},
     "output_type": "execute_result"
    }
   ],
   "source": [
    "np.zeros((3,4))"
   ]
  },
  {
   "cell_type": "markdown",
   "id": "1f4ecd4c-ffa1-4453-8335-3dc880c5adb9",
   "metadata": {},
   "source": [
    "#### **Generating Sequences**"
   ]
  },
  {
   "cell_type": "code",
   "execution_count": 28,
   "id": "fc8906fb-d4e8-4136-884e-3092011bfdc4",
   "metadata": {},
   "outputs": [],
   "source": [
    "x_values = np.arange(0,1000, 5)# begining value,end value and stepsize"
   ]
  },
  {
   "cell_type": "code",
   "execution_count": 29,
   "id": "3737de4d-bb41-4a2d-919f-d00dd544c66f",
   "metadata": {},
   "outputs": [
    {
     "name": "stdout",
     "output_type": "stream",
     "text": [
      "[  0   5  10  15  20  25  30  35  40  45  50  55  60  65  70  75  80  85\n",
      "  90  95 100 105 110 115 120 125 130 135 140 145 150 155 160 165 170 175\n",
      " 180 185 190 195 200 205 210 215 220 225 230 235 240 245 250 255 260 265\n",
      " 270 275 280 285 290 295 300 305 310 315 320 325 330 335 340 345 350 355\n",
      " 360 365 370 375 380 385 390 395 400 405 410 415 420 425 430 435 440 445\n",
      " 450 455 460 465 470 475 480 485 490 495 500 505 510 515 520 525 530 535\n",
      " 540 545 550 555 560 565 570 575 580 585 590 595 600 605 610 615 620 625\n",
      " 630 635 640 645 650 655 660 665 670 675 680 685 690 695 700 705 710 715\n",
      " 720 725 730 735 740 745 750 755 760 765 770 775 780 785 790 795 800 805\n",
      " 810 815 820 825 830 835 840 845 850 855 860 865 870 875 880 885 890 895\n",
      " 900 905 910 915 920 925 930 935 940 945 950 955 960 965 970 975 980 985\n",
      " 990 995]\n"
     ]
    }
   ],
   "source": [
    "print(x_values)"
   ]
  },
  {
   "cell_type": "code",
   "execution_count": null,
   "id": "c811a111-eb68-4dde-8400-b40128514e2e",
   "metadata": {},
   "outputs": [],
   "source": []
  },
  {
   "cell_type": "code",
   "execution_count": 34,
   "id": "550570c0-d9e7-4198-8bc0-c4b6db398f16",
   "metadata": {},
   "outputs": [],
   "source": [
    "y_values = np.linspace(0,1000, 1001)# begining value,end value and \n",
    "#number of values"
   ]
  },
  {
   "cell_type": "code",
   "execution_count": 36,
   "id": "4e7ca605-c810-468a-b362-473c52e3cdb8",
   "metadata": {},
   "outputs": [
    {
     "name": "stdout",
     "output_type": "stream",
     "text": [
      "[   0.    1.    2. ...  998.  999. 1000.]\n"
     ]
    }
   ],
   "source": [
    "print(y_values)"
   ]
  },
  {
   "cell_type": "code",
   "execution_count": null,
   "id": "57a4e907-bff2-4ae1-9cff-0b57ef333b6b",
   "metadata": {},
   "outputs": [],
   "source": []
  },
  {
   "cell_type": "code",
   "execution_count": 37,
   "id": "4290f3ed-337e-484e-8cde-f755faad62c8",
   "metadata": {},
   "outputs": [
    {
     "name": "stdout",
     "output_type": "stream",
     "text": [
      "nan\n"
     ]
    }
   ],
   "source": [
    "print(np.nan)"
   ]
  },
  {
   "cell_type": "code",
   "execution_count": 38,
   "id": "b7368474-b70d-4517-ac79-8dd0c998c325",
   "metadata": {},
   "outputs": [
    {
     "name": "stdout",
     "output_type": "stream",
     "text": [
      "inf\n"
     ]
    }
   ],
   "source": [
    "print(np.inf)"
   ]
  },
  {
   "cell_type": "code",
   "execution_count": 39,
   "id": "946ab0d5-a4d2-454f-8fdb-3c20eacccc49",
   "metadata": {},
   "outputs": [
    {
     "name": "stdout",
     "output_type": "stream",
     "text": [
      "True\n"
     ]
    }
   ],
   "source": [
    "print(np.isnan(np.nan))"
   ]
  },
  {
   "cell_type": "code",
   "execution_count": null,
   "id": "d725ac11-7dde-4f46-8394-452199091289",
   "metadata": {},
   "outputs": [],
   "source": []
  },
  {
   "cell_type": "code",
   "execution_count": 40,
   "id": "9abf0a5b-2d28-4c69-8a50-b3a94a2853b3",
   "metadata": {},
   "outputs": [],
   "source": [
    "l1 = [1,2,3,4,5]\n",
    "l2 = [6,7,8,9,0]"
   ]
  },
  {
   "cell_type": "code",
   "execution_count": 43,
   "id": "8a84a238-e204-4665-a44f-47313538ebb9",
   "metadata": {},
   "outputs": [],
   "source": [
    "a1 = np.array(l1)\n",
    "a2 = np.array(l2)"
   ]
  },
  {
   "cell_type": "code",
   "execution_count": 45,
   "id": "ece35ed5-593d-4cf6-aaff-30b019bd4f2b",
   "metadata": {},
   "outputs": [
    {
     "name": "stdout",
     "output_type": "stream",
     "text": [
      "[1, 2, 3, 4, 5, 1, 2, 3, 4, 5, 1, 2, 3, 4, 5, 1, 2, 3, 4, 5, 1, 2, 3, 4, 5]\n"
     ]
    }
   ],
   "source": [
    "print(l1*5)"
   ]
  },
  {
   "cell_type": "code",
   "execution_count": 46,
   "id": "c3cec186-58c9-42e0-b666-46969944a9f0",
   "metadata": {},
   "outputs": [
    {
     "name": "stdout",
     "output_type": "stream",
     "text": [
      "[30 35 40 45  0]\n"
     ]
    }
   ],
   "source": [
    "print(a2*5)"
   ]
  },
  {
   "cell_type": "code",
   "execution_count": null,
   "id": "3cf7dab9-844c-4110-88c7-8021cc82e72d",
   "metadata": {},
   "outputs": [],
   "source": []
  },
  {
   "cell_type": "code",
   "execution_count": 47,
   "id": "631e7771-0900-4f15-9341-5d8477a9ce00",
   "metadata": {},
   "outputs": [],
   "source": [
    "a = np.array([[1,2,3],\n",
    "             [4,5,5]])"
   ]
  },
  {
   "cell_type": "code",
   "execution_count": 49,
   "id": "ace37488-17c9-4771-a438-ca1df95ef946",
   "metadata": {},
   "outputs": [
    {
     "name": "stdout",
     "output_type": "stream",
     "text": [
      "[[1 2 3]\n",
      " [4 5 5]]\n"
     ]
    }
   ],
   "source": [
    "print(a)"
   ]
  },
  {
   "cell_type": "code",
   "execution_count": 54,
   "id": "e8f0d303-6dbd-4c39-8289-03224839f1a9",
   "metadata": {},
   "outputs": [
    {
     "name": "stdout",
     "output_type": "stream",
     "text": [
      "[[ 1.55740772 -2.18503986 -0.14254654]\n",
      " [ 1.15782128 -3.38051501 -3.38051501]]\n"
     ]
    }
   ],
   "source": [
    "print(np.tan(a))"
   ]
  },
  {
   "cell_type": "code",
   "execution_count": null,
   "id": "72f1cf7b-8ff2-408f-81e3-5aba188fd150",
   "metadata": {},
   "outputs": [],
   "source": []
  },
  {
   "cell_type": "code",
   "execution_count": 55,
   "id": "982a5527-9ee7-4518-ab89-f54c2a956ddd",
   "metadata": {},
   "outputs": [],
   "source": [
    "a = np.array([1,2,3])"
   ]
  },
  {
   "cell_type": "code",
   "execution_count": 56,
   "id": "b31dc8b6-14f0-4671-b453-fb0bd0097ce7",
   "metadata": {},
   "outputs": [
    {
     "data": {
      "text/plain": [
       "array([1, 2, 3, 7, 8, 9])"
      ]
     },
     "execution_count": 56,
     "metadata": {},
     "output_type": "execute_result"
    }
   ],
   "source": [
    "np.append(a,[7,8,9])"
   ]
  },
  {
   "cell_type": "code",
   "execution_count": 57,
   "id": "9f192634-91c2-40e0-950f-219f120d178a",
   "metadata": {},
   "outputs": [],
   "source": [
    "a = np.append(a,[7,8,9])"
   ]
  },
  {
   "cell_type": "code",
   "execution_count": 58,
   "id": "79c0d444-4d72-477a-8859-0d5e40ec7fb8",
   "metadata": {},
   "outputs": [
    {
     "name": "stdout",
     "output_type": "stream",
     "text": [
      "[1 2 3 7 8 9]\n"
     ]
    }
   ],
   "source": [
    "print(a)"
   ]
  },
  {
   "cell_type": "code",
   "execution_count": 59,
   "id": "2a67dd1f-02e1-421a-a8c5-7fb087d2a7c3",
   "metadata": {},
   "outputs": [
    {
     "data": {
      "text/plain": [
       "array([1, 2, 3, 4, 5, 6, 7, 8, 9])"
      ]
     },
     "execution_count": 59,
     "metadata": {},
     "output_type": "execute_result"
    }
   ],
   "source": [
    "np.insert(a,3,[4,5,6])# (array,index, what to insert)"
   ]
  },
  {
   "cell_type": "code",
   "execution_count": null,
   "id": "7ae0949f-6953-485b-9184-448a387fcaf8",
   "metadata": {},
   "outputs": [],
   "source": [
    "np.delete(a,1)"
   ]
  },
  {
   "cell_type": "code",
   "execution_count": 60,
   "id": "65cc95e6-0c53-4c61-8025-9254f1ab19a5",
   "metadata": {},
   "outputs": [],
   "source": [
    "a = np.array([[1,2,3],\n",
    "             [4,5,6]])"
   ]
  },
  {
   "cell_type": "code",
   "execution_count": null,
   "id": "d30a5146-1ae4-4b05-a58d-e1fffe23856d",
   "metadata": {},
   "outputs": [],
   "source": []
  },
  {
   "cell_type": "code",
   "execution_count": null,
   "id": "36d1789d-e450-4bce-bcfd-7cab2259c74f",
   "metadata": {},
   "outputs": [],
   "source": [
    "#np.delete(a,b,c)\n",
    "# a = array\n",
    "# b = index\n",
    "# c = axis"
   ]
  },
  {
   "cell_type": "code",
   "execution_count": 61,
   "id": "ae74b3c2-f71d-43e7-a8ec-20e9e31c8704",
   "metadata": {},
   "outputs": [
    {
     "data": {
      "text/plain": [
       "array([[1, 3],\n",
       "       [4, 6]])"
      ]
     },
     "execution_count": 61,
     "metadata": {},
     "output_type": "execute_result"
    }
   ],
   "source": [
    "np.delete(a,1,1)"
   ]
  },
  {
   "cell_type": "code",
   "execution_count": null,
   "id": "a9f97f85-3c40-4b1f-8310-7184fceb1345",
   "metadata": {},
   "outputs": [],
   "source": []
  },
  {
   "cell_type": "code",
   "execution_count": 65,
   "id": "9acfa222-6555-498d-a71d-a86c8ba5f2c4",
   "metadata": {},
   "outputs": [],
   "source": [
    "a = np.array([[1,2,3,4,5],\n",
    "             [6,7,8,9,10],\n",
    "             [11,12,13,14,15],\n",
    "             [16,17,18,19,20]])"
   ]
  },
  {
   "cell_type": "code",
   "execution_count": 63,
   "id": "09b5073f-9fc6-4254-b5a0-7678f0228dc0",
   "metadata": {},
   "outputs": [
    {
     "name": "stdout",
     "output_type": "stream",
     "text": [
      "(4, 5)\n"
     ]
    }
   ],
   "source": [
    "print(a.shape)"
   ]
  },
  {
   "cell_type": "code",
   "execution_count": 66,
   "id": "46f28919-b2c5-417c-b151-e598d06a37aa",
   "metadata": {},
   "outputs": [
    {
     "name": "stdout",
     "output_type": "stream",
     "text": [
      "[[ 1  2  3  4]\n",
      " [ 5  6  7  8]\n",
      " [ 9 10 11 12]\n",
      " [13 14 15 16]\n",
      " [17 18 19 20]]\n"
     ]
    }
   ],
   "source": [
    "print(a.reshape(5,4))"
   ]
  },
  {
   "cell_type": "code",
   "execution_count": 67,
   "id": "2e8b9a29-9a71-4f2b-91dd-591a34738e9c",
   "metadata": {},
   "outputs": [],
   "source": [
    "a.resize((10,2))"
   ]
  },
  {
   "cell_type": "code",
   "execution_count": 68,
   "id": "978be3d5-584b-4ee9-be7f-65c47d75de31",
   "metadata": {},
   "outputs": [
    {
     "name": "stdout",
     "output_type": "stream",
     "text": [
      "[[ 1  2]\n",
      " [ 3  4]\n",
      " [ 5  6]\n",
      " [ 7  8]\n",
      " [ 9 10]\n",
      " [11 12]\n",
      " [13 14]\n",
      " [15 16]\n",
      " [17 18]\n",
      " [19 20]]\n"
     ]
    }
   ],
   "source": [
    "print(a)"
   ]
  },
  {
   "cell_type": "code",
   "execution_count": 69,
   "id": "353c5ff8-ea43-452d-bec2-56621ce71412",
   "metadata": {},
   "outputs": [
    {
     "name": "stdout",
     "output_type": "stream",
     "text": [
      "[ 1  2  3  4  5  6  7  8  9 10 11 12 13 14 15 16 17 18 19 20]\n"
     ]
    }
   ],
   "source": [
    "print(a.flatten()) # returns a flattened copy of the array"
   ]
  },
  {
   "cell_type": "code",
   "execution_count": null,
   "id": "dffe1a0b-9e93-4194-8e3e-d4be63bb8c45",
   "metadata": {},
   "outputs": [],
   "source": []
  },
  {
   "cell_type": "code",
   "execution_count": 70,
   "id": "36addca3-6873-4a4e-9a94-948382576866",
   "metadata": {},
   "outputs": [
    {
     "name": "stdout",
     "output_type": "stream",
     "text": [
      "[ 1  2  3  4  5  6  7  8  9 10 11 12 13 14 15 16 17 18 19 20]\n"
     ]
    }
   ],
   "source": [
    "print(a.ravel()) # changes the original array to a flattened view"
   ]
  },
  {
   "cell_type": "code",
   "execution_count": 73,
   "id": "939def72-06b3-4876-ba17-14a1cc788166",
   "metadata": {},
   "outputs": [
    {
     "name": "stdout",
     "output_type": "stream",
     "text": [
      "[[ 1  2]\n",
      " [ 3  4]\n",
      " [ 5  6]\n",
      " [ 7  8]\n",
      " [ 9 10]\n",
      " [11 12]\n",
      " [13 14]\n",
      " [15 16]\n",
      " [17 18]\n",
      " [19 20]]\n"
     ]
    }
   ],
   "source": [
    "print(a)"
   ]
  },
  {
   "cell_type": "code",
   "execution_count": null,
   "id": "3e224fe3-8404-4935-8c2d-f53d55aa066f",
   "metadata": {},
   "outputs": [],
   "source": []
  },
  {
   "cell_type": "code",
   "execution_count": 80,
   "id": "181b32ff-8b2b-46a6-ae20-84302ec42335",
   "metadata": {},
   "outputs": [],
   "source": [
    "a1 = np.array([[1,2,3,4,5],\n",
    "             [6,7,8,9,10]])\n",
    "a2=np.array([[11,12,13,14,15],\n",
    "             [16,17,18,19,20]])"
   ]
  },
  {
   "cell_type": "code",
   "execution_count": 78,
   "id": "adca4cda-e5d4-4fcd-83f9-e910020aff24",
   "metadata": {},
   "outputs": [
    {
     "name": "stdout",
     "output_type": "stream",
     "text": [
      "[[ 1  6 11 16]\n",
      " [ 2  7 12 17]\n",
      " [ 3  8 13 18]\n",
      " [ 4  9 14 19]\n",
      " [ 5 10 15 20]]\n"
     ]
    }
   ],
   "source": [
    "print(a.T)"
   ]
  },
  {
   "cell_type": "code",
   "execution_count": null,
   "id": "7255911f-ff28-4070-a428-2e3b10982e14",
   "metadata": {},
   "outputs": [],
   "source": []
  },
  {
   "cell_type": "code",
   "execution_count": 81,
   "id": "40ec09c0-a397-430e-81a9-48dd2c716101",
   "metadata": {},
   "outputs": [
    {
     "name": "stdout",
     "output_type": "stream",
     "text": [
      "[[ 1  2  3  4  5]\n",
      " [ 6  7  8  9 10]]\n"
     ]
    }
   ],
   "source": [
    "print(a1)"
   ]
  },
  {
   "cell_type": "code",
   "execution_count": 82,
   "id": "7dcd2ada-4b74-4a8b-9050-04536e483030",
   "metadata": {},
   "outputs": [
    {
     "name": "stdout",
     "output_type": "stream",
     "text": [
      "[[11 12 13 14 15]\n",
      " [16 17 18 19 20]]\n"
     ]
    }
   ],
   "source": [
    "print(a2)"
   ]
  },
  {
   "cell_type": "code",
   "execution_count": 84,
   "id": "846509b5-04fe-42a4-817c-a052f0645ffa",
   "metadata": {},
   "outputs": [
    {
     "data": {
      "text/plain": [
       "array([[ 1,  2,  3,  4,  5],\n",
       "       [ 6,  7,  8,  9, 10],\n",
       "       [11, 12, 13, 14, 15],\n",
       "       [16, 17, 18, 19, 20]])"
      ]
     },
     "execution_count": 84,
     "metadata": {},
     "output_type": "execute_result"
    }
   ],
   "source": [
    " np.concatenate((a1,a2), axis = 0)"
   ]
  },
  {
   "cell_type": "code",
   "execution_count": 85,
   "id": "39002a6d-f1f5-49de-99f8-d91b4e1f6a09",
   "metadata": {},
   "outputs": [
    {
     "data": {
      "text/plain": [
       "array([[ 1,  2,  3,  4,  5, 11, 12, 13, 14, 15],\n",
       "       [ 6,  7,  8,  9, 10, 16, 17, 18, 19, 20]])"
      ]
     },
     "execution_count": 85,
     "metadata": {},
     "output_type": "execute_result"
    }
   ],
   "source": [
    "np.concatenate((a1,a2),axis = 1)"
   ]
  },
  {
   "cell_type": "code",
   "execution_count": null,
   "id": "7cda037f-802a-4e2e-87de-2ff245897735",
   "metadata": {},
   "outputs": [],
   "source": []
  },
  {
   "cell_type": "code",
   "execution_count": 86,
   "id": "db9f31f2-a664-44c1-9888-12c05fb0f8b0",
   "metadata": {},
   "outputs": [
    {
     "data": {
      "text/plain": [
       "array([[[ 1,  2,  3,  4,  5],\n",
       "        [ 6,  7,  8,  9, 10]],\n",
       "\n",
       "       [[11, 12, 13, 14, 15],\n",
       "        [16, 17, 18, 19, 20]]])"
      ]
     },
     "execution_count": 86,
     "metadata": {},
     "output_type": "execute_result"
    }
   ],
   "source": [
    "np.stack((a1,a2)) # adds a new dimension"
   ]
  },
  {
   "cell_type": "code",
   "execution_count": 87,
   "id": "fd36613d-3563-4aa7-bbaf-8a41a72b93d9",
   "metadata": {},
   "outputs": [
    {
     "data": {
      "text/plain": [
       "array([[ 1,  2,  3,  4,  5],\n",
       "       [ 6,  7,  8,  9, 10],\n",
       "       [11, 12, 13, 14, 15],\n",
       "       [16, 17, 18, 19, 20]])"
      ]
     },
     "execution_count": 87,
     "metadata": {},
     "output_type": "execute_result"
    }
   ],
   "source": [
    "np.vstack((a1,a2))"
   ]
  },
  {
   "cell_type": "code",
   "execution_count": 88,
   "id": "ec68b669-973c-4795-a6de-997c919d54f9",
   "metadata": {},
   "outputs": [
    {
     "data": {
      "text/plain": [
       "array([[ 1,  2,  3,  4,  5, 11, 12, 13, 14, 15],\n",
       "       [ 6,  7,  8,  9, 10, 16, 17, 18, 19, 20]])"
      ]
     },
     "execution_count": 88,
     "metadata": {},
     "output_type": "execute_result"
    }
   ],
   "source": [
    "np.hstack((a1,a2))"
   ]
  },
  {
   "cell_type": "code",
   "execution_count": 95,
   "id": "5a0ab3e0-e85e-44c6-a2aa-d58ec44608aa",
   "metadata": {},
   "outputs": [
    {
     "name": "stdout",
     "output_type": "stream",
     "text": [
      "[[ 1  2  3  4  5]\n",
      " [ 6  7  8  9 10]\n",
      " [11 12 13 14 15]\n",
      " [16 17 18 19 20]]\n"
     ]
    }
   ],
   "source": [
    "print(a)"
   ]
  },
  {
   "cell_type": "code",
   "execution_count": 106,
   "id": "43470bf3-f42a-430b-969c-bef98f4995a3",
   "metadata": {},
   "outputs": [
    {
     "name": "stdout",
     "output_type": "stream",
     "text": [
      "[array([[ 1,  2,  3,  4,  5],\n",
      "       [ 6,  7,  8,  9, 10]]), array([[11, 12, 13, 14, 15],\n",
      "       [16, 17, 18, 19, 20]])]\n"
     ]
    }
   ],
   "source": [
    "print(np.split(a,2,axis= 0))"
   ]
  },
  {
   "cell_type": "code",
   "execution_count": 108,
   "id": "615c72ac-71c3-4fc1-af72-86795f6da3e7",
   "metadata": {},
   "outputs": [
    {
     "name": "stdout",
     "output_type": "stream",
     "text": [
      "1\n"
     ]
    }
   ],
   "source": [
    "print(a.min())"
   ]
  },
  {
   "cell_type": "code",
   "execution_count": 110,
   "id": "796ba91f-cff2-400d-874c-20803d3439af",
   "metadata": {},
   "outputs": [
    {
     "name": "stdout",
     "output_type": "stream",
     "text": [
      "82\n"
     ]
    }
   ],
   "source": [
    "number = np.random.randint(100) # 100 is the range\n",
    "print(number)"
   ]
  },
  {
   "cell_type": "code",
   "execution_count": 111,
   "id": "9af3034a-9e3a-4cc7-973d-80933e70148b",
   "metadata": {},
   "outputs": [
    {
     "data": {
      "text/plain": [
       "array([[[ 1, 19, 83, 24],\n",
       "        [26, 89, 89, 63],\n",
       "        [50, 81, 44,  4]],\n",
       "\n",
       "       [[12, 31, 36, 65],\n",
       "        [75, 58,  6, 94],\n",
       "        [ 1, 38, 55, 90]]])"
      ]
     },
     "execution_count": 111,
     "metadata": {},
     "output_type": "execute_result"
    }
   ],
   "source": [
    "np.random.randint(100,size= (2,3,4))"
   ]
  },
  {
   "cell_type": "code",
   "execution_count": 112,
   "id": "06851c62-1cff-4665-8284-01d1ea658894",
   "metadata": {},
   "outputs": [
    {
     "data": {
      "text/plain": [
       "array([[93, 90, 91],\n",
       "       [90, 91, 94]])"
      ]
     },
     "execution_count": 112,
     "metadata": {},
     "output_type": "execute_result"
    }
   ],
   "source": [
    "np.random.randint(90,100,size = (2,3))"
   ]
  },
  {
   "cell_type": "code",
   "execution_count": 122,
   "id": "fcc52f0b-e7c2-4d66-ba30-bb53ed935f54",
   "metadata": {},
   "outputs": [
    {
     "data": {
      "text/plain": [
       "array([140, 132, 106, 141, 145, 117, 127, 179, 163, 151])"
      ]
     },
     "execution_count": 122,
     "metadata": {},
     "output_type": "execute_result"
    }
   ],
   "source": [
    "np.random.randint(100,190,size = 10)"
   ]
  },
  {
   "cell_type": "code",
   "execution_count": 134,
   "id": "4d09722e-0b62-4f95-ad47-e3ee8922456b",
   "metadata": {},
   "outputs": [
    {
     "data": {
      "text/plain": [
       "array([[5, 5, 2, 5, 3, 7, 4, 3, 6, 2],\n",
       "       [5, 6, 4, 5, 3, 4, 5, 4, 8, 5],\n",
       "       [5, 3, 5, 5, 5, 3, 5, 5, 2, 5],\n",
       "       [6, 4, 5, 7, 5, 6, 5, 6, 4, 6],\n",
       "       [4, 4, 5, 4, 8, 7, 2, 6, 5, 2]])"
      ]
     },
     "execution_count": 134,
     "metadata": {},
     "output_type": "execute_result"
    }
   ],
   "source": [
    "# binomila distribution\n",
    "np.random.binomial(10,p = 0.5,size =(5,10)) \n",
    "# numb of trials,probability of success,number of random samples to generate"
   ]
  },
  {
   "cell_type": "code",
   "execution_count": 133,
   "id": "8f0c6a7a-1e5c-40b7-b2aa-9c6c1bc6f6e1",
   "metadata": {},
   "outputs": [
    {
     "data": {
      "text/plain": [
       "array([6, 7, 2, 6, 6, 8, 7, 6, 6, 9])"
      ]
     },
     "execution_count": 133,
     "metadata": {},
     "output_type": "execute_result"
    }
   ],
   "source": [
    "np.random.binomial(10,p = 0.7,size = 10)"
   ]
  },
  {
   "cell_type": "code",
   "execution_count": 127,
   "id": "e9470c54-65c3-48f2-b06a-9e4c33a93344",
   "metadata": {},
   "outputs": [
    {
     "data": {
      "text/plain": [
       "array([[168.89335851, 189.7826796 , 162.82104159, 181.17318435,\n",
       "        186.98701698],\n",
       "       [179.51370641, 171.79682497, 203.05248952, 171.08607369,\n",
       "        168.42644862],\n",
       "       [175.10790417, 164.62280251, 145.25251126, 165.27199305,\n",
       "        181.6524472 ],\n",
       "       [143.82765258, 157.91882391, 154.37632354, 191.18678891,\n",
       "        150.37425631],\n",
       "       [168.91495149, 178.51378877, 173.69649726, 144.96231196,\n",
       "        137.29969589],\n",
       "       [176.39869287, 147.15111226, 155.58570789, 182.15092324,\n",
       "        184.37446324]])"
      ]
     },
     "execution_count": 127,
     "metadata": {},
     "output_type": "execute_result"
    }
   ],
   "source": [
    "np.random.normal(loc = 170,scale = 15,size =(6,5))\n",
    "# loc = mean\n",
    "# sclae = sd\n"
   ]
  },
  {
   "cell_type": "code",
   "execution_count": 116,
   "id": "e6a1acf2-24f6-49c0-8c5e-3b50f1b03b43",
   "metadata": {},
   "outputs": [
    {
     "data": {
      "text/plain": [
       "array([[30, 10, 30, 30, 10, 20, 30, 20, 50, 30],\n",
       "       [40, 30, 30, 20, 20, 40, 50, 50, 50, 20],\n",
       "       [40, 30, 10, 40, 20, 30, 10, 10, 50, 10],\n",
       "       [30, 10, 10, 30, 20, 40, 40, 30, 30, 20],\n",
       "       [40, 30, 10, 30, 20, 10, 30, 50, 20, 20]])"
      ]
     },
     "execution_count": 116,
     "metadata": {},
     "output_type": "execute_result"
    }
   ],
   "source": [
    "np.random.choice([10,20,30,40,50],size = (5,10))"
   ]
  },
  {
   "cell_type": "code",
   "execution_count": null,
   "id": "83fa5a26-a466-466a-933a-a93a1d32d666",
   "metadata": {},
   "outputs": [],
   "source": []
  },
  {
   "cell_type": "code",
   "execution_count": 117,
   "id": "d0c33718-4b3d-4555-b291-1106767becc4",
   "metadata": {},
   "outputs": [],
   "source": [
    "np.savetxt(\"myarray.csv\",a,delimiter = \",\")"
   ]
  },
  {
   "cell_type": "code",
   "execution_count": 118,
   "id": "9bd0a2e8-7897-40f2-b40d-19e7fa6f62a5",
   "metadata": {},
   "outputs": [
    {
     "data": {
      "text/plain": [
       "array([[ 1.,  2.,  3.,  4.,  5.],\n",
       "       [ 6.,  7.,  8.,  9., 10.],\n",
       "       [11., 12., 13., 14., 15.],\n",
       "       [16., 17., 18., 19., 20.]])"
      ]
     },
     "execution_count": 118,
     "metadata": {},
     "output_type": "execute_result"
    }
   ],
   "source": [
    "np.loadtxt(\"myarray.csv\",delimiter = \",\")"
   ]
  },
  {
   "cell_type": "code",
   "execution_count": 123,
   "id": "1bc9772e-8c5c-4409-a34a-e3ce6ab33d04",
   "metadata": {},
   "outputs": [],
   "source": [
    "import matplotlib.pyplot as plt"
   ]
  },
  {
   "cell_type": "code",
   "execution_count": 125,
   "id": "580c2592-6715-4d13-8981-94e8e0258cd6",
   "metadata": {},
   "outputs": [
    {
     "name": "stdout",
     "output_type": "stream",
     "text": [
      "[88 12 56  2 12 38 63 67 26 54 77 74 72 75 31 22  3 54 60 98 95 61 55 63\n",
      " 19 41 72 61 38 22 58 57 80 42 69 36 44 95  7  5 23 90 38 54 92 22 74 62\n",
      "  1 32 38 53 36 32  6 84 65 70 94 97  4 88 73 11 60 40  0  1  4 11 51 55\n",
      " 25  3 11 84 11 58 18 88 15 52 88 35 55  3 24 31 33  6 63 13  9  6 16 64\n",
      " 27 58 49 37]\n"
     ]
    }
   ],
   "source": [
    "a = np.random.randint(0,100,100)\n",
    "print(a)"
   ]
  },
  {
   "cell_type": "code",
   "execution_count": 126,
   "id": "e651f46e-1cd0-4c71-9f67-c9dd4fb517cf",
   "metadata": {},
   "outputs": [],
   "source": [
    "x = np.sin(a)"
   ]
  },
  {
   "cell_type": "code",
   "execution_count": 135,
   "id": "962c429a-0371-47ac-91b2-98ad349ec428",
   "metadata": {},
   "outputs": [],
   "source": [
    "rng = np.random.default_rng(seed = 12345)"
   ]
  },
  {
   "cell_type": "code",
   "execution_count": 136,
   "id": "645ff188-5f60-4c2b-b1b6-c7dfd4659734",
   "metadata": {},
   "outputs": [
    {
     "data": {
      "text/plain": [
       "Generator(PCG64) at 0x1F6847AE880"
      ]
     },
     "execution_count": 136,
     "metadata": {},
     "output_type": "execute_result"
    }
   ],
   "source": [
    "rng"
   ]
  },
  {
   "cell_type": "code",
   "execution_count": 139,
   "id": "3206fc7c-d979-48e0-9dbe-f15073ef03fa",
   "metadata": {},
   "outputs": [],
   "source": [
    "y =rng.normal(loc = 10,scale = 2,size = 100)"
   ]
  },
  {
   "cell_type": "code",
   "execution_count": 149,
   "id": "d0a48797-ac98-4af9-ae70-8e3854e56096",
   "metadata": {},
   "outputs": [
    {
     "data": {
      "text/plain": [
       "<matplotlib.collections.PathCollection at 0x1f684a76f30>"
      ]
     },
     "execution_count": 149,
     "metadata": {},
     "output_type": "execute_result"
    },
    {
     "data": {
      "image/png": "[encoded data removed]",
      "text/plain": [
       "<Figure size 640x480 with 1 Axes>"
      ]
     },
     "metadata": {},
     "output_type": "display_data"
    }
   ],
   "source": [
    "plt.scatter(x,y)"
   ]
  },
  {
   "cell_type": "code",
   "execution_count": 150,
   "id": "2bf86988-ceeb-4af7-86d2-82bd1847d987",
   "metadata": {},
   "outputs": [
    {
     "data": {
      "text/plain": [
       "[<matplotlib.lines.Line2D at 0x1f686d44650>]"
      ]
     },
     "execution_count": 150,
     "metadata": {},
     "output_type": "execute_result"
    },
    {
     "data": {
      "image/png": "[encoded data removed]",
      "text/plain": [
       "<Figure size 640x480 with 1 Axes>"
      ]
     },
     "metadata": {},
     "output_type": "display_data"
    }
   ],
   "source": [
    "plt.plot(x)"
   ]
  },
  {
   "cell_type": "code",
   "execution_count": 163,
   "id": "912faa71-902a-4740-8798-b074309fda23",
   "metadata": {},
   "outputs": [
    {
     "name": "stdout",
     "output_type": "stream",
     "text": [
      "[0.000e+00 1.000e-01 2.000e-01 ... 1.797e+02 1.798e+02 1.799e+02]\n"
     ]
    }
   ],
   "source": [
    "x = np.arange(0,180,0.1)\n",
    "print(x)"
   ]
  },
  {
   "cell_type": "code",
   "execution_count": 164,
   "id": "a81b196c-8adc-487f-a223-1b9499555a4f",
   "metadata": {},
   "outputs": [
    {
     "name": "stdout",
     "output_type": "stream",
     "text": [
      "[ 0.          0.09983342  0.19866933 ... -0.5885133  -0.66628726\n",
      " -0.7374039 ]\n"
     ]
    }
   ],
   "source": [
    "x = np.sin(x)\n",
    "print(x)"
   ]
  },
  {
   "cell_type": "code",
   "execution_count": 165,
   "id": "5c89372e-2df4-4244-b7d8-96ab261a9cb7",
   "metadata": {},
   "outputs": [
    {
     "data": {
      "text/plain": [
       "[<matplotlib.lines.Line2D at 0x1f687ba84d0>]"
      ]
     },
     "execution_count": 165,
     "metadata": {},
     "output_type": "execute_result"
    },
    {
     "data": {
      "image/png": "[encoded data removed]",
      "text/plain": [
       "<Figure size 640x480 with 1 Axes>"
      ]
     },
     "metadata": {},
     "output_type": "display_data"
    }
   ],
   "source": [
    "plt.plot(x)"
   ]
  },
  {
   "cell_type": "code",
   "execution_count": 167,
   "id": "349b7bb0-16fa-4c74-9868-f4a2d229bedb",
   "metadata": {},
   "outputs": [
    {
     "data": {
      "text/plain": [
       "array([[1., 1., 1.],\n",
       "       [1., 1., 1.]])"
      ]
     },
     "execution_count": 167,
     "metadata": {},
     "output_type": "execute_result"
    }
   ],
   "source": [
    "np.ones(shape = (2,3))"
   ]
  },
  {
   "cell_type": "code",
   "execution_count": null,
   "id": "39c47d94-be61-45ee-9383-685e0d1b1a46",
   "metadata": {},
   "outputs": [],
   "source": []
  },
  {
   "cell_type": "code",
   "execution_count": null,
   "id": "b3839197-4c49-4f12-ad31-805395617eec",
   "metadata": {},
   "outputs": [],
   "source": []
  },
  {
   "cell_type": "code",
   "execution_count": null,
   "id": "b59ff2c7-500d-4a1b-b2d9-fd9c38d6b8dd",
   "metadata": {},
   "outputs": [],
   "source": []
  },
  {
   "cell_type": "code",
   "execution_count": null,
   "id": "d2d34ca0-0cc0-488f-b649-294e7b3d5b27",
   "metadata": {},
   "outputs": [],
   "source": []
  },
  {
   "cell_type": "code",
   "execution_count": null,
   "id": "e244d082-42d6-4eb2-81c6-e6d68d619302",
   "metadata": {},
   "outputs": [],
   "source": []
  },
  {
   "cell_type": "code",
   "execution_count": null,
   "id": "075750f4-bc49-4552-a1df-77e58421901d",
   "metadata": {},
   "outputs": [],
   "source": []
  },
  {
   "cell_type": "code",
   "execution_count": null,
   "id": "2fd3e4c4-2c74-4cdf-80f8-67458042e40d",
   "metadata": {},
   "outputs": [],
   "source": []
  },
  {
   "cell_type": "code",
   "execution_count": null,
   "id": "6b85ab70-4bcb-49b3-bc4b-5a5335d96fa9",
   "metadata": {},
   "outputs": [],
   "source": []
  },
  {
   "cell_type": "code",
   "execution_count": null,
   "id": "f7a7ab76-3677-4434-a7c9-bef1560b4ebf",
   "metadata": {},
   "outputs": [],
   "source": []
  },
  {
   "cell_type": "code",
   "execution_count": null,
   "id": "68448783-500c-40e9-b402-1114b3b796ae",
   "metadata": {},
   "outputs": [],
   "source": []
  },
  {
   "cell_type": "code",
   "execution_count": null,
   "id": "f6f8ce92-eeff-483d-b4f3-1ad1f468dbf7",
   "metadata": {},
   "outputs": [],
   "source": []
  },
  {
   "cell_type": "code",
   "execution_count": null,
   "id": "8d82d7bd-3f65-4615-9a80-986e49b8c1dd",
   "metadata": {},
   "outputs": [],
   "source": []
  },
  {
   "cell_type": "code",
   "execution_count": null,
   "id": "76dbf45e-21a6-4040-9d81-ab931e5663bc",
   "metadata": {},
   "outputs": [],
   "source": []
  },
  {
   "cell_type": "code",
   "execution_count": null,
   "id": "78a31d24-639e-4e06-ba61-0a21839cc637",
   "metadata": {},
   "outputs": [],
   "source": []
  }
 ],
 "metadata": {
  "kernelspec": {
   "display_name": "Python 3 (ipykernel)",
   "language": "python",
   "name": "python3"
  },
  "language_info": {
   "codemirror_mode": {
    "name": "ipython",
    "version": 3
   },
   "file_extension": ".py",
   "mimetype": "text/x-python",
   "name": "python",
   "nbconvert_exporter": "python",
   "pygments_lexer": "ipython3",
   "version": "3.12.4"
  }
 },
 "nbformat": 4,
 "nbformat_minor": 5
}
