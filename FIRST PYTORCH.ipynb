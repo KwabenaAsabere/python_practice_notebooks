{
 "cells": [
  {
   "cell_type": "code",
   "execution_count": 2,
   "id": "b053a156-62b4-48fd-9934-30913d39a517",
   "metadata": {},
   "outputs": [],
   "source": [
    "#tensors are arrays for Pytorch\n",
    "# basic building block for Pytorch"
   ]
  },
  {
   "cell_type": "code",
   "execution_count": 3,
   "id": "7c4bd75c-c1a2-46fc-8e55-43041c33e161",
   "metadata": {},
   "outputs": [],
   "source": [
    "import torch \n",
    "import numpy as np"
   ]
  },
  {
   "cell_type": "code",
   "execution_count": 4,
   "id": "e3edc34b-9c69-45fa-af90-83ff971b6198",
   "metadata": {},
   "outputs": [
    {
     "name": "stdout",
     "output_type": "stream",
     "text": [
      "Our first PyTorch Tensor:  tensor([1, 2, 3])\n"
     ]
    }
   ],
   "source": [
    "tensor_1 = torch.tensor([1,2,3])\n",
    "print(\"Our first PyTorch Tensor: \",tensor_1)"
   ]
  },
  {
   "cell_type": "code",
   "execution_count": 5,
   "id": "991a8ddc-c27f-49d9-8780-8241567d8224",
   "metadata": {},
   "outputs": [],
   "source": [
    "array_1 = np.array([1,2,3])"
   ]
  },
  {
   "cell_type": "code",
   "execution_count": 6,
   "id": "f8c32cd5-e445-43a2-a430-0952d1382a22",
   "metadata": {},
   "outputs": [
    {
     "name": "stdout",
     "output_type": "stream",
     "text": [
      "PyTorch Tensor from Numpy array:  tensor([1, 2, 3], dtype=torch.int32)\n"
     ]
    }
   ],
   "source": [
    "tensor_from_numpy = torch.tensor(array_1)\n",
    "print(\"PyTorch Tensor from Numpy array: \",tensor_from_numpy)"
   ]
  },
  {
   "cell_type": "code",
   "execution_count": 7,
   "id": "a1724c88-bf11-4d98-8997-06e793d17bce",
   "metadata": {},
   "outputs": [
    {
     "name": "stdout",
     "output_type": "stream",
     "text": [
      "Empty Tensor: tensor([0., 0., 0.])\n"
     ]
    }
   ],
   "source": [
    "empty_tensor = torch.empty(3)\n",
    "print(\"Empty Tensor:\",empty_tensor)"
   ]
  },
  {
   "cell_type": "code",
   "execution_count": 8,
   "id": "01f615fd-23bb-4ca3-9e9f-f8ea6c354304",
   "metadata": {},
   "outputs": [
    {
     "name": "stdout",
     "output_type": "stream",
     "text": [
      "Zero Tensor:  tensor([[0., 0., 0.],\n",
      "        [0., 0., 0.]])\n"
     ]
    }
   ],
   "source": [
    "zero_tensor = torch.zeros(2,3)\n",
    "print(\"Zero Tensor: \",zero_tensor)"
   ]
  },
  {
   "cell_type": "code",
   "execution_count": 9,
   "id": "314077d4-b985-4c47-aca1-d991975680ef",
   "metadata": {},
   "outputs": [
    {
     "name": "stdout",
     "output_type": "stream",
     "text": [
      "One Tensor:  tensor([[1., 1., 1.],\n",
      "        [1., 1., 1.]])\n"
     ]
    }
   ],
   "source": [
    "one_tensor = torch.ones(2,3)\n",
    "print(\"One Tensor: \",one_tensor)"
   ]
  },
  {
   "cell_type": "code",
   "execution_count": 10,
   "id": "a818c017-d688-47c7-b4d2-6edde6c4657e",
   "metadata": {},
   "outputs": [
    {
     "name": "stdout",
     "output_type": "stream",
     "text": [
      "Random Tensor tensor([[0.0964, 0.0462, 0.6450],\n",
      "        [0.1465, 0.8087, 0.5540],\n",
      "        [0.1597, 0.8963, 0.6324]])\n"
     ]
    }
   ],
   "source": [
    "random_tensor = torch.rand(3,3)\n",
    "print(\"Random Tensor\",random_tensor)"
   ]
  },
  {
   "cell_type": "code",
   "execution_count": 11,
   "id": "7ac6bb6b-99db-4228-a935-39d7014295c9",
   "metadata": {},
   "outputs": [
    {
     "name": "stdout",
     "output_type": "stream",
     "text": [
      "Arange Tensor:  tensor([  0,  10,  20,  30,  40,  50,  60,  70,  80,  90, 100])\n"
     ]
    }
   ],
   "source": [
    "arange_tensor = torch.arange(start = 0,end = 101,step =10)\n",
    "print(\"Arange Tensor: \",arange_tensor)"
   ]
  },
  {
   "cell_type": "code",
   "execution_count": 12,
   "id": "0205e294-4d3d-4a25-a3bc-58b1700211b9",
   "metadata": {},
   "outputs": [
    {
     "data": {
      "text/plain": [
       "tensor(0.8087)"
      ]
     },
     "execution_count": 12,
     "metadata": {},
     "output_type": "execute_result"
    }
   ],
   "source": [
    "random_tensor[1,1]"
   ]
  },
  {
   "cell_type": "code",
   "execution_count": 13,
   "id": "9c849935-0377-4182-b332-d4cb68cb2812",
   "metadata": {},
   "outputs": [
    {
     "data": {
      "text/plain": [
       "tensor([0.1465, 0.8087, 0.5540])"
      ]
     },
     "execution_count": 13,
     "metadata": {},
     "output_type": "execute_result"
    }
   ],
   "source": [
    "random_tensor[1,:]"
   ]
  },
  {
   "cell_type": "code",
   "execution_count": 14,
   "id": "a9d6fce7-8534-450b-94fa-2cf52f672b15",
   "metadata": {},
   "outputs": [
    {
     "data": {
      "text/plain": [
       "tensor([0.0964, 0.1465, 0.1597])"
      ]
     },
     "execution_count": 14,
     "metadata": {},
     "output_type": "execute_result"
    }
   ],
   "source": [
    "random_tensor[:,0]"
   ]
  },
  {
   "cell_type": "code",
   "execution_count": 15,
   "id": "e74936f7-5093-43f7-b4cc-11bfe96b2e48",
   "metadata": {},
   "outputs": [
    {
     "data": {
      "text/plain": [
       "0.8086925148963928"
      ]
     },
     "execution_count": 15,
     "metadata": {},
     "output_type": "execute_result"
    }
   ],
   "source": [
    "random_tensor[1,1].item()"
   ]
  },
  {
   "cell_type": "code",
   "execution_count": 16,
   "id": "e9b40d5f-48f9-4bf0-8c12-a892f8893f38",
   "metadata": {},
   "outputs": [
    {
     "name": "stdout",
     "output_type": "stream",
     "text": [
      "Reshape Tensor tensor([[0.5124, 0.7036, 0.5884, 0.0080],\n",
      "        [0.5973, 0.7456, 0.4199, 0.9667],\n",
      "        [0.6721, 0.5891, 0.1674, 0.8587],\n",
      "        [0.3182, 0.4861, 0.8327, 0.1498],\n",
      "        [0.4722, 0.6041, 0.3753, 0.9172]])\n"
     ]
    }
   ],
   "source": [
    "reshape_tensor = torch.rand(5,4)\n",
    "print(\"Reshape Tensor\",reshape_tensor)"
   ]
  },
  {
   "cell_type": "code",
   "execution_count": 17,
   "id": "13e98e30-7a57-4815-bdda-e99355ceb056",
   "metadata": {},
   "outputs": [
    {
     "name": "stdout",
     "output_type": "stream",
     "text": [
      "Reshape Tensor 2:  tensor([[0.5124, 0.7036],\n",
      "        [0.5884, 0.0080],\n",
      "        [0.5973, 0.7456],\n",
      "        [0.4199, 0.9667],\n",
      "        [0.6721, 0.5891],\n",
      "        [0.1674, 0.8587],\n",
      "        [0.3182, 0.4861],\n",
      "        [0.8327, 0.1498],\n",
      "        [0.4722, 0.6041],\n",
      "        [0.3753, 0.9172]])\n"
     ]
    }
   ],
   "source": [
    "new_reshape_tensor = reshape_tensor.view(-1,2)\n",
    "print(\"Reshape Tensor 2: \",new_reshape_tensor)"
   ]
  },
  {
   "cell_type": "code",
   "execution_count": null,
   "id": "7cbe014d-a26a-4782-8991-b7927c3e61d8",
   "metadata": {},
   "outputs": [],
   "source": []
  },
  {
   "cell_type": "code",
   "execution_count": 18,
   "id": "4013b974-53fb-4fd9-8eeb-90874e0764b9",
   "metadata": {},
   "outputs": [],
   "source": [
    "tensor_a = torch.tensor([1,2,3])\n",
    "tensor_b = torch.tensor([2,4,6])"
   ]
  },
  {
   "cell_type": "code",
   "execution_count": 19,
   "id": "424ae3a6-2e49-46f7-a8d2-011a7448b7b1",
   "metadata": {},
   "outputs": [
    {
     "name": "stdout",
     "output_type": "stream",
     "text": [
      "tensor([3, 6, 9])\n",
      "tensor([3, 6, 9])\n",
      "tensor([1, 2, 3])\n"
     ]
    }
   ],
   "source": [
    "results_add_1 = torch.add(tensor_b,tensor_a)\n",
    "results_add_2= tensor_b + tensor_a\n",
    "results_sub_1 = tensor_b - tensor_a\n",
    "\n",
    "print(results_add_1)\n",
    "print(results_add_2)\n",
    "print(results_sub_1)"
   ]
  },
  {
   "cell_type": "code",
   "execution_count": 20,
   "id": "484de7b5-836b-4683-8114-691fa38e164b",
   "metadata": {},
   "outputs": [
    {
     "data": {
      "text/plain": [
       "tensor([3, 6, 9])"
      ]
     },
     "execution_count": 20,
     "metadata": {},
     "output_type": "execute_result"
    }
   ],
   "source": [
    "tensor_b.add_(tensor_a)"
   ]
  },
  {
   "cell_type": "code",
   "execution_count": 21,
   "id": "fe754aa5-2832-49ff-9acc-3ef42d494da4",
   "metadata": {},
   "outputs": [
    {
     "name": "stdout",
     "output_type": "stream",
     "text": [
      "tensor([3, 6, 9])\n"
     ]
    }
   ],
   "source": [
    "print(tensor_b)"
   ]
  },
  {
   "cell_type": "code",
   "execution_count": 22,
   "id": "69130d94-9db7-439d-93b7-b9c0e9c6b725",
   "metadata": {},
   "outputs": [],
   "source": [
    "matrix_a = torch.tensor([[1,2],[3,4]])\n",
    "matrix_b = torch.tensor([[5,6],[7,8]])"
   ]
  },
  {
   "cell_type": "code",
   "execution_count": 23,
   "id": "6fcb972b-e20a-4c57-9196-ce9d8655a4be",
   "metadata": {},
   "outputs": [
    {
     "name": "stdout",
     "output_type": "stream",
     "text": [
      "tensor([[19, 22],\n",
      "        [43, 50]])\n"
     ]
    }
   ],
   "source": [
    "results_multiply = torch.mm(matrix_a,matrix_b)\n",
    "print(results_multiply)"
   ]
  },
  {
   "cell_type": "code",
   "execution_count": null,
   "id": "098533bc-4189-4d10-9602-31e82a78c008",
   "metadata": {},
   "outputs": [],
   "source": []
  },
  {
   "cell_type": "code",
   "execution_count": 24,
   "id": "04731f8c-dd1e-44e1-b0de-aef565cce21c",
   "metadata": {},
   "outputs": [
    {
     "name": "stdout",
     "output_type": "stream",
     "text": [
      "tensor([[1, 2],\n",
      "        [3, 4]])\n",
      "tensor([[5, 6],\n",
      "        [7, 8]])\n"
     ]
    }
   ],
   "source": [
    "print(matrix_a)\n",
    "print(matrix_b)"
   ]
  },
  {
   "cell_type": "code",
   "execution_count": 25,
   "id": "b6e1f68d-52e8-4878-94cb-e384a26334cc",
   "metadata": {},
   "outputs": [
    {
     "name": "stdout",
     "output_type": "stream",
     "text": [
      "tensor([[ 5, 12],\n",
      "        [21, 32]])\n"
     ]
    }
   ],
   "source": [
    "results_multiply2 = torch.mul(matrix_a,matrix_b)\n",
    "print(results_multiply2)"
   ]
  },
  {
   "cell_type": "code",
   "execution_count": 26,
   "id": "4601595b-9f37-4885-b724-66c2c006de15",
   "metadata": {},
   "outputs": [
    {
     "data": {
      "text/plain": [
       "torch.int64"
      ]
     },
     "execution_count": 26,
     "metadata": {},
     "output_type": "execute_result"
    }
   ],
   "source": [
    "results_multiply.dtype"
   ]
  },
  {
   "cell_type": "code",
   "execution_count": 27,
   "id": "4510f393-dad5-4261-9a08-96f696960dd8",
   "metadata": {},
   "outputs": [
    {
     "data": {
      "text/plain": [
       "torch.float32"
      ]
     },
     "execution_count": 27,
     "metadata": {},
     "output_type": "execute_result"
    }
   ],
   "source": [
    "random_tensor.dtype"
   ]
  },
  {
   "cell_type": "code",
   "execution_count": 28,
   "id": "04a79656-35d4-46a6-a9e8-f2120b466876",
   "metadata": {},
   "outputs": [
    {
     "name": "stdout",
     "output_type": "stream",
     "text": [
      "tensor([4, 5, 6])\n",
      "torch.int64\n"
     ]
    }
   ],
   "source": [
    "tensor_int = torch.tensor([4,5,6],dtype = torch.int64)\n",
    "print(tensor_int)\n",
    "print(tensor_int.dtype)"
   ]
  },
  {
   "cell_type": "code",
   "execution_count": 29,
   "id": "fb3cdd35-14f3-4a84-968a-0036bf703b69",
   "metadata": {},
   "outputs": [],
   "source": [
    "tensor_float = tensor_int.to(torch.float32)"
   ]
  },
  {
   "cell_type": "code",
   "execution_count": 30,
   "id": "224c8982-4525-40ec-9450-19a11c187738",
   "metadata": {},
   "outputs": [
    {
     "data": {
      "text/plain": [
       "torch.float32"
      ]
     },
     "execution_count": 30,
     "metadata": {},
     "output_type": "execute_result"
    }
   ],
   "source": [
    "tensor_float.dtype"
   ]
  },
  {
   "cell_type": "code",
   "execution_count": 42,
   "id": "7f75d511-4100-4964-87d8-136b7c548127",
   "metadata": {},
   "outputs": [
    {
     "data": {
      "text/plain": [
       "device(type='cpu')"
      ]
     },
     "execution_count": 42,
     "metadata": {},
     "output_type": "execute_result"
    }
   ],
   "source": [
    "tensor_float.device"
   ]
  },
  {
   "cell_type": "code",
   "execution_count": 43,
   "id": "471025cf-6188-4538-9fd7-e6ebf76551f9",
   "metadata": {},
   "outputs": [],
   "source": [
    "device = torch.device(\"cuda\" if torch.cuda.is_available() else \"cpu\")"
   ]
  },
  {
   "cell_type": "code",
   "execution_count": 47,
   "id": "383d8d70-c62a-44fb-be9e-be85e40a7bcc",
   "metadata": {},
   "outputs": [
    {
     "data": {
      "text/plain": [
       "tensor([4., 5., 6.])"
      ]
     },
     "execution_count": 47,
     "metadata": {},
     "output_type": "execute_result"
    }
   ],
   "source": [
    "tensor_float.to(device)"
   ]
  },
  {
   "cell_type": "code",
   "execution_count": 34,
   "id": "8cb65de8-795d-4ccc-be5c-fc57441ad2af",
   "metadata": {},
   "outputs": [
    {
     "data": {
      "text/plain": [
       "device(type='cpu')"
      ]
     },
     "execution_count": 34,
     "metadata": {},
     "output_type": "execute_result"
    }
   ],
   "source": [
    "tensor_float.device"
   ]
  },
  {
   "cell_type": "code",
   "execution_count": 56,
   "id": "a085c838-1694-4c3e-b1ca-7a04776df3b7",
   "metadata": {},
   "outputs": [
    {
     "data": {
      "text/plain": [
       "False"
      ]
     },
     "execution_count": 56,
     "metadata": {},
     "output_type": "execute_result"
    }
   ],
   "source": [
    "torch.cuda.is_available()"
   ]
  },
  {
   "cell_type": "code",
   "execution_count": null,
   "id": "1cf12c63-7dc4-4773-a6e4-11cc0cb55155",
   "metadata": {},
   "outputs": [],
   "source": []
  },
  {
   "cell_type": "code",
   "execution_count": 59,
   "id": "aa8faaa7-050e-4152-ba7e-7463993c80a8",
   "metadata": {},
   "outputs": [
    {
     "data": {
      "text/plain": [
       "1"
      ]
     },
     "execution_count": 59,
     "metadata": {},
     "output_type": "execute_result"
    }
   ],
   "source": [
    "torch.cpu.device_count()"
   ]
  },
  {
   "cell_type": "code",
   "execution_count": 60,
   "id": "e596c9b8-f292-4f32-9bbf-20db72ff9e46",
   "metadata": {},
   "outputs": [],
   "source": [
    "import torch\n",
    "import torchvision\n",
    "import torchvision.transforms as transforms"
   ]
  },
  {
   "cell_type": "code",
   "execution_count": 61,
   "id": "e532725c-919d-48eb-9a12-b1bb69c2a57b",
   "metadata": {},
   "outputs": [],
   "source": [
    "transform = transforms.Compose(\n",
    "    [transforms.ToTensor(),\n",
    "    transforms.Normalize((0.5,0.5,0.5),(0.5,0.5,0.5))]\n",
    ")"
   ]
  },
  {
   "cell_type": "code",
   "execution_count": 63,
   "id": "2cd2a235-1acb-468f-9bc6-207327b7e283",
   "metadata": {},
   "outputs": [
    {
     "name": "stdout",
     "output_type": "stream",
     "text": [
      "Files already downloaded and verified\n"
     ]
    }
   ],
   "source": [
    "trainset = torchvision.datasets.CIFAR10(root = \"./downloads\",train = True,\n",
    "                                       download = True,transform = transform)"
   ]
  },
  {
   "cell_type": "code",
   "execution_count": null,
   "id": "39723f5d-60d2-4ecb-a6c2-cf661567f15e",
   "metadata": {},
   "outputs": [],
   "source": []
  },
  {
   "cell_type": "code",
   "execution_count": 79,
   "id": "cd2b0f9e-8d2e-4df1-b529-18d2ed083d08",
   "metadata": {},
   "outputs": [],
   "source": [
    "x = torch.tensor([3.0],dtype = torch.float32,requires_grad = True)"
   ]
  },
  {
   "cell_type": "code",
   "execution_count": 81,
   "id": "eedb97bf-dd4c-4484-9299-c4f28ecdf964",
   "metadata": {},
   "outputs": [],
   "source": [
    "y = x**2 + 4"
   ]
  },
  {
   "cell_type": "code",
   "execution_count": 82,
   "id": "e3ca71e8-52b0-421e-8ebb-96e690f50f80",
   "metadata": {},
   "outputs": [],
   "source": [
    "y.backward()"
   ]
  },
  {
   "cell_type": "code",
   "execution_count": 83,
   "id": "4304ccac-2331-41f3-b13e-9dbf992cbf20",
   "metadata": {},
   "outputs": [
    {
     "name": "stdout",
     "output_type": "stream",
     "text": [
      "Gradient: x tensor([6.])\n"
     ]
    }
   ],
   "source": [
    "print(\"Gradient: x\",x.grad)"
   ]
  },
  {
   "cell_type": "code",
   "execution_count": null,
   "id": "573436b5-a8d9-4fd6-bba4-d9aed79bcb47",
   "metadata": {},
   "outputs": [],
   "source": []
  },
  {
   "cell_type": "code",
   "execution_count": 85,
   "id": "0234b50b-5ada-4c39-8aa5-13a858dd26b3",
   "metadata": {},
   "outputs": [],
   "source": [
    "x = torch.tensor([3.0])\n",
    "y = torch.tensor(7.0)"
   ]
  },
  {
   "cell_type": "code",
   "execution_count": null,
   "id": "9524eb66-a2be-4742-8fc4-1a7060e2d883",
   "metadata": {},
   "outputs": [],
   "source": [
    "x.requires_grad_(True)"
   ]
  },
  {
   "cell_type": "code",
   "execution_count": null,
   "id": "ae75e29b-7d0f-4b9c-90e3-85107b231822",
   "metadata": {},
   "outputs": [],
   "source": []
  },
  {
   "cell_type": "code",
   "execution_count": null,
   "id": "d89b59bc-d17c-4bf6-821c-3561cf87bd9e",
   "metadata": {},
   "outputs": [],
   "source": []
  },
  {
   "cell_type": "code",
   "execution_count": null,
   "id": "23cfc66c-a89f-4788-92e0-28e97d2edf70",
   "metadata": {},
   "outputs": [],
   "source": []
  },
  {
   "cell_type": "code",
   "execution_count": null,
   "id": "2a7f7a84-2f16-41e9-895c-35a0fc1004cf",
   "metadata": {},
   "outputs": [],
   "source": []
  },
  {
   "cell_type": "code",
   "execution_count": null,
   "id": "a1469fd4-cbbd-4cc0-8a70-5c5aa673c88c",
   "metadata": {},
   "outputs": [],
   "source": []
  },
  {
   "cell_type": "code",
   "execution_count": null,
   "id": "27b4c0ae-380e-4e2b-84ef-bd5239ff2aea",
   "metadata": {},
   "outputs": [],
   "source": []
  },
  {
   "cell_type": "code",
   "execution_count": null,
   "id": "fe0bddc8-c6c0-4a7b-9534-b2511c932fd9",
   "metadata": {},
   "outputs": [],
   "source": []
  },
  {
   "cell_type": "code",
   "execution_count": null,
   "id": "1d9583c7-01d4-477c-a400-e07696da8a82",
   "metadata": {},
   "outputs": [],
   "source": []
  },
  {
   "cell_type": "code",
   "execution_count": null,
   "id": "820a187b-4887-44af-995f-71b1c6e77026",
   "metadata": {},
   "outputs": [],
   "source": []
  },
  {
   "cell_type": "code",
   "execution_count": null,
   "id": "b37ea897-b65d-4800-9452-b769733b4ef1",
   "metadata": {},
   "outputs": [],
   "source": []
  },
  {
   "cell_type": "code",
   "execution_count": null,
   "id": "04172f54-436a-4008-beca-f8789090835d",
   "metadata": {},
   "outputs": [],
   "source": []
  },
  {
   "cell_type": "code",
   "execution_count": null,
   "id": "ef148b05-5d71-4c8c-835b-84d51517dd2f",
   "metadata": {},
   "outputs": [],
   "source": []
  },
  {
   "cell_type": "code",
   "execution_count": null,
   "id": "b0aee000-54f5-4fe0-b718-4660d1fdf29d",
   "metadata": {},
   "outputs": [],
   "source": []
  },
  {
   "cell_type": "code",
   "execution_count": null,
   "id": "6df88229-af1d-4bee-95c0-93797a3a3351",
   "metadata": {},
   "outputs": [],
   "source": []
  },
  {
   "cell_type": "code",
   "execution_count": null,
   "id": "0ea81880-3475-471d-8c78-442b76ebc4f7",
   "metadata": {},
   "outputs": [],
   "source": []
  },
  {
   "cell_type": "code",
   "execution_count": null,
   "id": "825cf8e4-4c1a-4420-9183-4709c5f78e53",
   "metadata": {},
   "outputs": [],
   "source": []
  },
  {
   "cell_type": "code",
   "execution_count": null,
   "id": "9f957e34-d4c6-40f4-a169-5508f761d8ef",
   "metadata": {},
   "outputs": [],
   "source": []
  },
  {
   "cell_type": "code",
   "execution_count": null,
   "id": "e12fdda7-3606-4cbb-8056-08e217ebce11",
   "metadata": {},
   "outputs": [],
   "source": []
  },
  {
   "cell_type": "code",
   "execution_count": null,
   "id": "f7c6f43c-a0a8-48d4-8f3a-4f3f82dda094",
   "metadata": {},
   "outputs": [],
   "source": []
  },
  {
   "cell_type": "code",
   "execution_count": null,
   "id": "628255d6-e8c8-4c3a-a474-843fb9920dee",
   "metadata": {},
   "outputs": [],
   "source": []
  },
  {
   "cell_type": "code",
   "execution_count": null,
   "id": "1448a3b4-76f8-4ef5-ad93-b27a4fc62cfa",
   "metadata": {},
   "outputs": [],
   "source": []
  },
  {
   "cell_type": "code",
   "execution_count": null,
   "id": "40d8925e-58d6-4222-8f4c-b1bb0000ecdc",
   "metadata": {},
   "outputs": [],
   "source": []
  },
  {
   "cell_type": "code",
   "execution_count": null,
   "id": "b3e147dd-b6ce-44c2-984b-5beb4b3a3698",
   "metadata": {},
   "outputs": [],
   "source": []
  },
  {
   "cell_type": "code",
   "execution_count": null,
   "id": "92f5f05a-8fbc-40f8-9928-de11f3423b21",
   "metadata": {},
   "outputs": [],
   "source": []
  },
  {
   "cell_type": "code",
   "execution_count": null,
   "id": "54d05d6b-a4dd-4fee-807a-5d0e0d19ff6b",
   "metadata": {},
   "outputs": [],
   "source": []
  },
  {
   "cell_type": "code",
   "execution_count": null,
   "id": "3318a4f7-910b-431a-b217-9f925b9880e5",
   "metadata": {},
   "outputs": [],
   "source": []
  },
  {
   "cell_type": "code",
   "execution_count": null,
   "id": "60f0e388-6d17-4484-bf16-98009b43079e",
   "metadata": {},
   "outputs": [],
   "source": []
  },
  {
   "cell_type": "code",
   "execution_count": null,
   "id": "dc2ff391-4bf0-4505-8dad-4af6dd27887d",
   "metadata": {},
   "outputs": [],
   "source": []
  },
  {
   "cell_type": "code",
   "execution_count": null,
   "id": "c81a0e5b-1e9e-40fb-b924-10e418bfdd89",
   "metadata": {},
   "outputs": [],
   "source": []
  },
  {
   "cell_type": "code",
   "execution_count": null,
   "id": "3a4dd8d6-dc7b-4f6b-b4de-fc5066d01a76",
   "metadata": {},
   "outputs": [],
   "source": []
  },
  {
   "cell_type": "code",
   "execution_count": null,
   "id": "e5d52a58-8009-40a2-8b9b-5f342b9dc3de",
   "metadata": {},
   "outputs": [],
   "source": []
  },
  {
   "cell_type": "code",
   "execution_count": null,
   "id": "719b78eb-0d01-4bbc-998c-eb17318350ca",
   "metadata": {},
   "outputs": [],
   "source": []
  },
  {
   "cell_type": "code",
   "execution_count": null,
   "id": "69fcaf27-1b84-4eb8-b9e8-0eafdc28bb26",
   "metadata": {},
   "outputs": [],
   "source": []
  },
  {
   "cell_type": "code",
   "execution_count": null,
   "id": "805106cf-e172-4b3b-88ab-50b51db91abb",
   "metadata": {},
   "outputs": [],
   "source": []
  },
  {
   "cell_type": "code",
   "execution_count": null,
   "id": "a276e78e-c938-4f88-b2b4-83ed4a808979",
   "metadata": {},
   "outputs": [],
   "source": []
  },
  {
   "cell_type": "code",
   "execution_count": null,
   "id": "da1c8b80-600c-4b25-bb1b-b111f3093850",
   "metadata": {},
   "outputs": [],
   "source": []
  },
  {
   "cell_type": "code",
   "execution_count": null,
   "id": "6db12453-3884-424b-93c2-d0612ed6430e",
   "metadata": {},
   "outputs": [],
   "source": []
  },
  {
   "cell_type": "code",
   "execution_count": null,
   "id": "dff2b82b-a240-4871-8793-d78981b7c5d3",
   "metadata": {},
   "outputs": [],
   "source": []
  },
  {
   "cell_type": "code",
   "execution_count": null,
   "id": "2d25b8cd-ee93-4ef8-b804-870ad3c1175d",
   "metadata": {},
   "outputs": [],
   "source": []
  },
  {
   "cell_type": "code",
   "execution_count": null,
   "id": "d3e1336f-5511-451e-b587-83d3f1dbed33",
   "metadata": {},
   "outputs": [],
   "source": []
  },
  {
   "cell_type": "code",
   "execution_count": null,
   "id": "f57fbd36-d4bd-4c7f-856e-5172a02feab1",
   "metadata": {},
   "outputs": [],
   "source": []
  },
  {
   "cell_type": "code",
   "execution_count": null,
   "id": "99b84ec1-9e33-40df-ae99-5014f11353b2",
   "metadata": {},
   "outputs": [],
   "source": []
  },
  {
   "cell_type": "code",
   "execution_count": null,
   "id": "5d27ca3a-016e-4a41-b541-00f6cc4c277e",
   "metadata": {},
   "outputs": [],
   "source": []
  },
  {
   "cell_type": "code",
   "execution_count": null,
   "id": "aebe37c7-41e9-4b1e-bc49-595cf5d1f144",
   "metadata": {},
   "outputs": [],
   "source": []
  },
  {
   "cell_type": "code",
   "execution_count": null,
   "id": "b7a86279-13f6-4733-8d17-2d37e4701152",
   "metadata": {},
   "outputs": [],
   "source": []
  },
  {
   "cell_type": "code",
   "execution_count": null,
   "id": "ce291d5f-75f6-4b31-9c58-d73893f6aba5",
   "metadata": {},
   "outputs": [],
   "source": []
  },
  {
   "cell_type": "code",
   "execution_count": null,
   "id": "02a8366e-c0f3-4442-831b-e1ac2692c906",
   "metadata": {},
   "outputs": [],
   "source": []
  },
  {
   "cell_type": "code",
   "execution_count": null,
   "id": "b9791ecc-f25e-4c3d-90a1-09193f83dff5",
   "metadata": {},
   "outputs": [],
   "source": []
  },
  {
   "cell_type": "code",
   "execution_count": null,
   "id": "0e206475-aca8-43b7-b858-6b9906fced3b",
   "metadata": {},
   "outputs": [],
   "source": []
  },
  {
   "cell_type": "code",
   "execution_count": null,
   "id": "faccdcc9-c447-4d58-a4dc-d915c368bdd2",
   "metadata": {},
   "outputs": [],
   "source": []
  },
  {
   "cell_type": "code",
   "execution_count": null,
   "id": "e29fcff8-6c8d-4936-a709-1c0409ceae19",
   "metadata": {},
   "outputs": [],
   "source": []
  },
  {
   "cell_type": "code",
   "execution_count": null,
   "id": "0fcec847-ce9c-4050-a247-95a2816241e9",
   "metadata": {},
   "outputs": [],
   "source": []
  },
  {
   "cell_type": "code",
   "execution_count": null,
   "id": "38654e59-1334-4711-9834-40682239ec4a",
   "metadata": {},
   "outputs": [],
   "source": []
  },
  {
   "cell_type": "code",
   "execution_count": null,
   "id": "6659a4ff-14b9-4831-b845-7feb5335a2dd",
   "metadata": {},
   "outputs": [],
   "source": []
  },
  {
   "cell_type": "code",
   "execution_count": null,
   "id": "d2afa43a-1f29-4d77-b0a1-459349acb569",
   "metadata": {},
   "outputs": [],
   "source": []
  },
  {
   "cell_type": "code",
   "execution_count": null,
   "id": "36ac3c76-395c-4b95-b166-ebc74e48e8a7",
   "metadata": {},
   "outputs": [],
   "source": []
  },
  {
   "cell_type": "code",
   "execution_count": null,
   "id": "cd03c6a3-e14f-4d08-8c8d-85aec8d2c129",
   "metadata": {},
   "outputs": [],
   "source": []
  }
 ],
 "metadata": {
  "kernelspec": {
   "display_name": "Python 3 (ipykernel)",
   "language": "python",
   "name": "python3"
  },
  "language_info": {
   "codemirror_mode": {
    "name": "ipython",
    "version": 3
   },
   "file_extension": ".py",
   "mimetype": "text/x-python",
   "name": "python",
   "nbconvert_exporter": "python",
   "pygments_lexer": "ipython3",
   "version": "3.12.3"
  }
 },
 "nbformat": 4,
 "nbformat_minor": 5
}
